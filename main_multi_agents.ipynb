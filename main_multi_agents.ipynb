{
 "cells": [
  {
   "cell_type": "markdown",
   "metadata": {},
   "source": [
    "# COMS W4995 Deep Learning Project\n",
    "Kai Zhou kz2329@columbia.edu Kathleen He kh3030@columbia.edu Yuechen Yang yy2608@columbia.edu"
   ]
  },
  {
   "cell_type": "code",
   "execution_count": 1,
   "metadata": {},
   "outputs": [],
   "source": [
    "import gym\n",
    "import numpy as np\n",
    "import matplotlib.pyplot as plt\n",
    "from matplotlib.ticker import Formatter\n",
    "import datetime as dt\n",
    "import pandas as pd\n",
    "\n",
    "from importlib import reload\n",
    "from time import time\n",
    "import os.path"
   ]
  },
  {
   "cell_type": "markdown",
   "metadata": {},
   "source": [
    "## Load Utilities"
   ]
  },
  {
   "cell_type": "code",
   "execution_count": 2,
   "metadata": {},
   "outputs": [],
   "source": [
    "from utils.evaluator import Evaluator\n",
    "from utils.formatter import DateFormatter\n",
    "\n",
    "evaluator = Evaluator()"
   ]
  },
  {
   "cell_type": "markdown",
   "metadata": {},
   "source": [
    "## Load Environment"
   ]
  },
  {
   "cell_type": "code",
   "execution_count": 3,
   "metadata": {},
   "outputs": [
    {
     "name": "stdout",
     "output_type": "stream",
     "text": [
      "WARNING:tensorflow:\n",
      "The TensorFlow contrib module will not be included in TensorFlow 2.0.\n",
      "For more information, please see:\n",
      "  * https://github.com/tensorflow/community/blob/master/rfcs/20180907-contrib-sunset.md\n",
      "  * https://github.com/tensorflow/addons\n",
      "  * https://github.com/tensorflow/io (for I/O related ops)\n",
      "If you depend on functionality not listed there, please file an issue.\n",
      "\n"
     ]
    }
   ],
   "source": [
    "from stable_baselines.common.vec_env import DummyVecEnv\n",
    "from envs import equity_env"
   ]
  },
  {
   "cell_type": "code",
   "execution_count": 4,
   "metadata": {},
   "outputs": [
    {
     "name": "stdout",
     "output_type": "stream",
     "text": [
      "-- Data Loaded --\n",
      "-- Environment Created --\n"
     ]
    }
   ],
   "source": [
    "env = equity_env.EquityEnv(split_data=True)\n",
    "env = DummyVecEnv([lambda: env])\n"
   ]
  },
  {
   "cell_type": "markdown",
   "metadata": {},
   "source": [
    "## Initialize Models "
   ]
  },
  {
   "cell_type": "code",
   "execution_count": 5,
   "metadata": {},
   "outputs": [],
   "source": [
    "from stable_baselines.common.policies import MlpPolicy, MlpLstmPolicy\n",
    "from stable_baselines.ppo2 import PPO2\n",
    "# from stable_baselines import DDPG\n",
    "from stable_baselines import A2C\n",
    "from stable_baselines import ACKTR\n",
    "# from stable_baselines import GAIL\n",
    "\n",
    "from stable_baselines import bench, logger\n",
    "from stable_baselines.results_plotter import load_results, ts2xy"
   ]
  },
  {
   "cell_type": "markdown",
   "metadata": {},
   "source": [
    "### PPO2"
   ]
  },
  {
   "cell_type": "code",
   "execution_count": 6,
   "metadata": {},
   "outputs": [
    {
     "name": "stdout",
     "output_type": "stream",
     "text": [
      "WARNING:tensorflow:From /usr/local/lib/python3.5/dist-packages/stable_baselines/common/tf_util.py:57: The name tf.ConfigProto is deprecated. Please use tf.compat.v1.ConfigProto instead.\n",
      "\n",
      "WARNING:tensorflow:From /usr/local/lib/python3.5/dist-packages/stable_baselines/common/tf_util.py:66: The name tf.Session is deprecated. Please use tf.compat.v1.Session instead.\n",
      "\n",
      "WARNING:tensorflow:From /usr/local/lib/python3.5/dist-packages/stable_baselines/common/policies.py:115: The name tf.variable_scope is deprecated. Please use tf.compat.v1.variable_scope instead.\n",
      "\n",
      "WARNING:tensorflow:From /usr/local/lib/python3.5/dist-packages/stable_baselines/common/input.py:25: The name tf.placeholder is deprecated. Please use tf.compat.v1.placeholder instead.\n",
      "\n",
      "WARNING:tensorflow:From /usr/local/lib/python3.5/dist-packages/stable_baselines/common/policies.py:421: flatten (from tensorflow.python.layers.core) is deprecated and will be removed in a future version.\n",
      "Instructions for updating:\n",
      "Use keras.layers.flatten instead.\n",
      "WARNING:tensorflow:From /usr/local/lib/python3.5/dist-packages/tensorflow_core/python/layers/core.py:332: Layer.apply (from tensorflow.python.keras.engine.base_layer) is deprecated and will be removed in a future version.\n",
      "Instructions for updating:\n",
      "Please use `layer.__call__` method instead.\n",
      "WARNING:tensorflow:From /usr/local/lib/python3.5/dist-packages/stable_baselines/a2c/utils.py:156: The name tf.get_variable is deprecated. Please use tf.compat.v1.get_variable instead.\n",
      "\n",
      "WARNING:tensorflow:From /usr/local/lib/python3.5/dist-packages/stable_baselines/common/distributions.py:413: The name tf.random_normal is deprecated. Please use tf.random.normal instead.\n",
      "\n"
     ]
    },
    {
     "name": "stderr",
     "output_type": "stream",
     "text": [
      "/usr/local/lib/python3.5/dist-packages/stable_baselines/common/policies.py:415: UserWarning: The layers parameter is deprecated. Use the net_arch parameter instead.\n",
      "  warnings.warn(\"The layers parameter is deprecated. Use the net_arch parameter instead.\")\n"
     ]
    },
    {
     "name": "stdout",
     "output_type": "stream",
     "text": [
      "WARNING:tensorflow:From /usr/local/lib/python3.5/dist-packages/stable_baselines/ppo2/ppo2.py:193: The name tf.summary.scalar is deprecated. Please use tf.compat.v1.summary.scalar instead.\n",
      "\n",
      "WARNING:tensorflow:From /usr/local/lib/python3.5/dist-packages/stable_baselines/ppo2/ppo2.py:201: The name tf.trainable_variables is deprecated. Please use tf.compat.v1.trainable_variables instead.\n",
      "\n",
      "WARNING:tensorflow:From /usr/local/lib/python3.5/dist-packages/tensorflow_core/python/ops/math_grad.py:1424: where (from tensorflow.python.ops.array_ops) is deprecated and will be removed in a future version.\n",
      "Instructions for updating:\n",
      "Use tf.where in 2.0, which has the same broadcast rule as np.where\n",
      "WARNING:tensorflow:From /usr/local/lib/python3.5/dist-packages/stable_baselines/ppo2/ppo2.py:209: The name tf.train.AdamOptimizer is deprecated. Please use tf.compat.v1.train.AdamOptimizer instead.\n",
      "\n",
      "WARNING:tensorflow:From /usr/local/lib/python3.5/dist-packages/stable_baselines/ppo2/ppo2.py:243: The name tf.global_variables_initializer is deprecated. Please use tf.compat.v1.global_variables_initializer instead.\n",
      "\n",
      "WARNING:tensorflow:From /usr/local/lib/python3.5/dist-packages/stable_baselines/ppo2/ppo2.py:245: The name tf.summary.merge_all is deprecated. Please use tf.compat.v1.summary.merge_all instead.\n",
      "\n"
     ]
    }
   ],
   "source": [
    "model_ppo2 = PPO2(MlpLstmPolicy, env, n_steps=240, ent_coef=0.01, vf_coef=0.5,\n",
    "             cliprange=0.2, learning_rate=1e-5, verbose=0, \n",
    "             nminibatches=1, policy_kwargs={\"n_lstm\":36, \"layers\":[36,36]})"
   ]
  },
  {
   "cell_type": "markdown",
   "metadata": {},
   "source": [
    "### DDPG"
   ]
  },
  {
   "cell_type": "code",
   "execution_count": 7,
   "metadata": {},
   "outputs": [],
   "source": [
    "# model_ddpg = DDPG(MlpPolicy, env, verbose=1)\n"
   ]
  },
  {
   "cell_type": "markdown",
   "metadata": {},
   "source": [
    "### A2C"
   ]
  },
  {
   "cell_type": "code",
   "execution_count": 8,
   "metadata": {},
   "outputs": [
    {
     "name": "stderr",
     "output_type": "stream",
     "text": [
      "/usr/local/lib/python3.5/dist-packages/stable_baselines/common/policies.py:415: UserWarning: The layers parameter is deprecated. Use the net_arch parameter instead.\n",
      "  warnings.warn(\"The layers parameter is deprecated. Use the net_arch parameter instead.\")\n"
     ]
    },
    {
     "name": "stdout",
     "output_type": "stream",
     "text": [
      "WARNING:tensorflow:From /usr/local/lib/python3.5/dist-packages/stable_baselines/common/tf_util.py:312: The name tf.get_collection is deprecated. Please use tf.compat.v1.get_collection instead.\n",
      "\n",
      "WARNING:tensorflow:From /usr/local/lib/python3.5/dist-packages/stable_baselines/common/tf_util.py:312: The name tf.GraphKeys is deprecated. Please use tf.compat.v1.GraphKeys instead.\n",
      "\n",
      "WARNING:tensorflow:From /usr/local/lib/python3.5/dist-packages/stable_baselines/a2c/a2c.py:159: The name tf.train.RMSPropOptimizer is deprecated. Please use tf.compat.v1.train.RMSPropOptimizer instead.\n",
      "\n",
      "WARNING:tensorflow:From /usr/local/lib/python3.5/dist-packages/tensorflow_core/python/training/rmsprop.py:119: calling Ones.__init__ (from tensorflow.python.ops.init_ops) with dtype is deprecated and will be removed in a future version.\n",
      "Instructions for updating:\n",
      "Call initializer instance with the dtype argument instead of passing it to the constructor\n"
     ]
    }
   ],
   "source": [
    "model_a2c = A2C(MlpLstmPolicy, env, verbose=0,\n",
    "                  n_steps=240, learning_rate=1e-5,\n",
    "                  policy_kwargs={\"n_lstm\":36, \"layers\":[36,36]}               \n",
    "               )"
   ]
  },
  {
   "cell_type": "markdown",
   "metadata": {},
   "source": [
    "### ACKTR"
   ]
  },
  {
   "cell_type": "code",
   "execution_count": 9,
   "metadata": {},
   "outputs": [
    {
     "name": "stderr",
     "output_type": "stream",
     "text": [
      "/usr/local/lib/python3.5/dist-packages/stable_baselines/common/policies.py:415: UserWarning: The layers parameter is deprecated. Use the net_arch parameter instead.\n",
      "  warnings.warn(\"The layers parameter is deprecated. Use the net_arch parameter instead.\")\n"
     ]
    },
    {
     "name": "stdout",
     "output_type": "stream",
     "text": [
      "WARNING:tensorflow:From /usr/local/lib/python3.5/dist-packages/stable_baselines/acktr/kfac.py:97: The name tf.get_default_graph is deprecated. Please use tf.compat.v1.get_default_graph instead.\n",
      "\n",
      "WARNING:tensorflow:From /usr/local/lib/python3.5/dist-packages/stable_baselines/acktr/kfac.py:293: The name tf.diag is deprecated. Please use tf.linalg.tensor_diag instead.\n",
      "\n",
      "WARNING:tensorflow:From /usr/local/lib/python3.5/dist-packages/stable_baselines/acktr/kfac.py:541: The name tf.assign is deprecated. Please use tf.compat.v1.assign instead.\n",
      "\n",
      "WARNING:tensorflow:From /usr/local/lib/python3.5/dist-packages/stable_baselines/acktr/kfac.py:543: The name tf.assign_add is deprecated. Please use tf.compat.v1.assign_add instead.\n",
      "\n"
     ]
    }
   ],
   "source": [
    "model_acktr = ACKTR(MlpLstmPolicy, env, verbose=0, \n",
    "                  n_steps=240, learning_rate=1e-5,\n",
    "                  policy_kwargs={\"n_lstm\":36, \"layers\":[36,36]})                    \n"
   ]
  },
  {
   "cell_type": "markdown",
   "metadata": {},
   "source": [
    "### GAIL"
   ]
  },
  {
   "cell_type": "code",
   "execution_count": 10,
   "metadata": {},
   "outputs": [],
   "source": [
    "# model_gail = GAIL(MlpLstmPolicy, env, verbose=0, \n",
    "#                   policy_kwargs={\"n_lstm\":36, \"layers\":[36,36]})\n"
   ]
  },
  {
   "cell_type": "markdown",
   "metadata": {},
   "source": [
    "## Train Models"
   ]
  },
  {
   "cell_type": "code",
   "execution_count": 7,
   "metadata": {},
   "outputs": [
    {
     "name": "stdout",
     "output_type": "stream",
     "text": [
      "Takes 16 s to run\n"
     ]
    }
   ],
   "source": [
    "start = time()\n",
    "\n",
    "total_timesteps = 120 * 20\n",
    "\n",
    "model_ppo2.learn(total_timesteps=total_timesteps, tb_log_name=\"0bps_new_env\")\n",
    "# model_ddpg.learn(total_timesteps=total_timesteps, tb_log_name=\"0bps_new_env\")\n",
    "# model_a2c.learn(total_timesteps=total_timesteps, tb_log_name=\"0bps_new_env\")\n",
    "# model_acktr.learn(total_timesteps=total_timesteps, tb_log_name=\"0bps_new_env\")\n",
    "# model_gail.learn(total_timesteps=total_timesteps, tb_log_name=\"0bps_new_env\")\n",
    "\n",
    "\n",
    "end = time()\n",
    "t = end - start\n",
    "print(\"Takes %d s to run\" % t)"
   ]
  },
  {
   "cell_type": "markdown",
   "metadata": {},
   "source": [
    "## Evaluate Models"
   ]
  },
  {
   "cell_type": "code",
   "execution_count": 23,
   "metadata": {},
   "outputs": [],
   "source": [
    "s = pd.read_csv(\"data/state.csv\", index_col=0, parse_dates=True)\n",
    "p = pd.read_csv(\"data/price.csv\", index_col=0, parse_dates=True)"
   ]
  },
  {
   "cell_type": "code",
   "execution_count": 31,
   "metadata": {},
   "outputs": [
    {
     "data": {
      "text/html": [
       "<div>\n",
       "<style scoped>\n",
       "    .dataframe tbody tr th:only-of-type {\n",
       "        vertical-align: middle;\n",
       "    }\n",
       "\n",
       "    .dataframe tbody tr th {\n",
       "        vertical-align: top;\n",
       "    }\n",
       "\n",
       "    .dataframe thead th {\n",
       "        text-align: right;\n",
       "    }\n",
       "</style>\n",
       "<table border=\"1\" class=\"dataframe\">\n",
       "  <thead>\n",
       "    <tr style=\"text-align: right;\">\n",
       "      <th></th>\n",
       "      <th>open_gg</th>\n",
       "      <th>close_gg</th>\n",
       "      <th>high_gg</th>\n",
       "      <th>low_gg</th>\n",
       "      <th>volume_gg</th>\n",
       "      <th>open_am</th>\n",
       "      <th>close_am</th>\n",
       "      <th>high_am</th>\n",
       "      <th>low_am</th>\n",
       "      <th>volume_am</th>\n",
       "      <th>open_ms</th>\n",
       "      <th>close_ms</th>\n",
       "      <th>high_ms</th>\n",
       "      <th>low_ms</th>\n",
       "      <th>volume_ms</th>\n",
       "    </tr>\n",
       "    <tr>\n",
       "      <th>Dates</th>\n",
       "      <th></th>\n",
       "      <th></th>\n",
       "      <th></th>\n",
       "      <th></th>\n",
       "      <th></th>\n",
       "      <th></th>\n",
       "      <th></th>\n",
       "      <th></th>\n",
       "      <th></th>\n",
       "      <th></th>\n",
       "      <th></th>\n",
       "      <th></th>\n",
       "      <th></th>\n",
       "      <th></th>\n",
       "      <th></th>\n",
       "    </tr>\n",
       "  </thead>\n",
       "  <tbody>\n",
       "    <tr>\n",
       "      <th>2019-03-18 15:35:00</th>\n",
       "      <td>2.192433</td>\n",
       "      <td>-0.873027</td>\n",
       "      <td>-0.733255</td>\n",
       "      <td>-0.453382</td>\n",
       "      <td>-0.088028</td>\n",
       "      <td>1.625408</td>\n",
       "      <td>-1.304698</td>\n",
       "      <td>-0.819451</td>\n",
       "      <td>-1.119144</td>\n",
       "      <td>0.022606</td>\n",
       "      <td>2.565164</td>\n",
       "      <td>-0.360171</td>\n",
       "      <td>-0.851366</td>\n",
       "      <td>0.142880</td>\n",
       "      <td>-0.059540</td>\n",
       "    </tr>\n",
       "    <tr>\n",
       "      <th>2019-03-18 15:36:00</th>\n",
       "      <td>2.173399</td>\n",
       "      <td>0.407588</td>\n",
       "      <td>-0.197757</td>\n",
       "      <td>0.745964</td>\n",
       "      <td>-0.131665</td>\n",
       "      <td>1.590502</td>\n",
       "      <td>0.175067</td>\n",
       "      <td>-0.207567</td>\n",
       "      <td>0.807563</td>\n",
       "      <td>-0.036044</td>\n",
       "      <td>2.557945</td>\n",
       "      <td>0.313069</td>\n",
       "      <td>-0.142868</td>\n",
       "      <td>0.837142</td>\n",
       "      <td>-0.070801</td>\n",
       "    </tr>\n",
       "    <tr>\n",
       "      <th>2019-03-18 15:37:00</th>\n",
       "      <td>2.176211</td>\n",
       "      <td>-0.344333</td>\n",
       "      <td>-0.733255</td>\n",
       "      <td>0.266226</td>\n",
       "      <td>-0.200910</td>\n",
       "      <td>1.595985</td>\n",
       "      <td>-0.787672</td>\n",
       "      <td>-0.819451</td>\n",
       "      <td>-0.311907</td>\n",
       "      <td>0.093016</td>\n",
       "      <td>2.566367</td>\n",
       "      <td>-0.300061</td>\n",
       "      <td>-0.772644</td>\n",
       "      <td>0.374301</td>\n",
       "      <td>-0.049713</td>\n",
       "    </tr>\n",
       "    <tr>\n",
       "      <th>2019-03-18 15:38:00</th>\n",
       "      <td>2.167559</td>\n",
       "      <td>0.407588</td>\n",
       "      <td>-0.197757</td>\n",
       "      <td>0.745964</td>\n",
       "      <td>-0.135095</td>\n",
       "      <td>1.579936</td>\n",
       "      <td>0.371180</td>\n",
       "      <td>-0.074208</td>\n",
       "      <td>0.541022</td>\n",
       "      <td>-0.065157</td>\n",
       "      <td>2.560351</td>\n",
       "      <td>-0.119729</td>\n",
       "      <td>-0.615200</td>\n",
       "      <td>0.451441</td>\n",
       "      <td>-0.103310</td>\n",
       "    </tr>\n",
       "    <tr>\n",
       "      <th>2019-03-18 15:39:00</th>\n",
       "      <td>2.172317</td>\n",
       "      <td>0.278351</td>\n",
       "      <td>-0.323757</td>\n",
       "      <td>0.538077</td>\n",
       "      <td>-0.039365</td>\n",
       "      <td>1.588362</td>\n",
       "      <td>0.085924</td>\n",
       "      <td>-0.380150</td>\n",
       "      <td>0.777101</td>\n",
       "      <td>-0.228184</td>\n",
       "      <td>2.556741</td>\n",
       "      <td>-0.179839</td>\n",
       "      <td>-0.536478</td>\n",
       "      <td>0.374301</td>\n",
       "      <td>0.031969</td>\n",
       "    </tr>\n",
       "  </tbody>\n",
       "</table>\n",
       "</div>"
      ],
      "text/plain": [
       "                      open_gg  close_gg   high_gg    low_gg  volume_gg  \\\n",
       "Dates                                                                    \n",
       "2019-03-18 15:35:00  2.192433 -0.873027 -0.733255 -0.453382  -0.088028   \n",
       "2019-03-18 15:36:00  2.173399  0.407588 -0.197757  0.745964  -0.131665   \n",
       "2019-03-18 15:37:00  2.176211 -0.344333 -0.733255  0.266226  -0.200910   \n",
       "2019-03-18 15:38:00  2.167559  0.407588 -0.197757  0.745964  -0.135095   \n",
       "2019-03-18 15:39:00  2.172317  0.278351 -0.323757  0.538077  -0.039365   \n",
       "\n",
       "                      open_am  close_am   high_am    low_am  volume_am  \\\n",
       "Dates                                                                    \n",
       "2019-03-18 15:35:00  1.625408 -1.304698 -0.819451 -1.119144   0.022606   \n",
       "2019-03-18 15:36:00  1.590502  0.175067 -0.207567  0.807563  -0.036044   \n",
       "2019-03-18 15:37:00  1.595985 -0.787672 -0.819451 -0.311907   0.093016   \n",
       "2019-03-18 15:38:00  1.579936  0.371180 -0.074208  0.541022  -0.065157   \n",
       "2019-03-18 15:39:00  1.588362  0.085924 -0.380150  0.777101  -0.228184   \n",
       "\n",
       "                      open_ms  close_ms   high_ms    low_ms  volume_ms  \n",
       "Dates                                                                   \n",
       "2019-03-18 15:35:00  2.565164 -0.360171 -0.851366  0.142880  -0.059540  \n",
       "2019-03-18 15:36:00  2.557945  0.313069 -0.142868  0.837142  -0.070801  \n",
       "2019-03-18 15:37:00  2.566367 -0.300061 -0.772644  0.374301  -0.049713  \n",
       "2019-03-18 15:38:00  2.560351 -0.119729 -0.615200  0.451441  -0.103310  \n",
       "2019-03-18 15:39:00  2.556741 -0.179839 -0.536478  0.374301   0.031969  "
      ]
     },
     "execution_count": 31,
     "metadata": {},
     "output_type": "execute_result"
    }
   ],
   "source": []
  },
  {
   "cell_type": "code",
   "execution_count": null,
   "metadata": {},
   "outputs": [],
   "source": []
  },
  {
   "cell_type": "code",
   "execution_count": 20,
   "metadata": {},
   "outputs": [],
   "source": [
    "dates = s.index"
   ]
  },
  {
   "cell_type": "code",
   "execution_count": 24,
   "metadata": {},
   "outputs": [
    {
     "data": {
      "text/plain": [
       "(36007, 6)"
      ]
     },
     "execution_count": 24,
     "metadata": {},
     "output_type": "execute_result"
    }
   ],
   "source": [
    "p.shape"
   ]
  },
  {
   "cell_type": "code",
   "execution_count": 25,
   "metadata": {},
   "outputs": [
    {
     "data": {
      "text/plain": [
       "<module 'envs.equity_env' from '/home/jupyter/COMS-W4995-Deep-Learning-Project/envs/equity_env.py'>"
      ]
     },
     "execution_count": 25,
     "metadata": {},
     "output_type": "execute_result"
    }
   ],
   "source": [
    "reload(equity_env)"
   ]
  },
  {
   "cell_type": "code",
   "execution_count": 26,
   "metadata": {},
   "outputs": [
    {
     "name": "stdout",
     "output_type": "stream",
     "text": [
      "-- Data Loaded --\n",
      "-- Environment Created --\n"
     ]
    }
   ],
   "source": [
    "dev_env = equity_env.EquityEnv(split_data=False, test_option=\"full\")\n",
    "dev_env = DummyVecEnv([lambda: dev_env])"
   ]
  },
  {
   "cell_type": "code",
   "execution_count": 27,
   "metadata": {},
   "outputs": [],
   "source": [
    "pnl_ppo2, date_ppo2, trans_cost_ppo2, actions_ppo2 = evaluator.evaluate(model_ppo2, dev_env)"
   ]
  },
  {
   "cell_type": "code",
   "execution_count": null,
   "metadata": {},
   "outputs": [],
   "source": []
  },
  {
   "cell_type": "code",
   "execution_count": null,
   "metadata": {},
   "outputs": [],
   "source": []
  },
  {
   "cell_type": "code",
   "execution_count": 57,
   "metadata": {},
   "outputs": [
    {
     "name": "stdout",
     "output_type": "stream",
     "text": [
      "-- Data Loaded --\n",
      "-- Environment Created --\n"
     ]
    }
   ],
   "source": [
    "dev_env = equity_env.EquityEnv(split_data=False, test_option=\"develop\")\n",
    "dev_env = DummyVecEnv([lambda: dev_env])"
   ]
  },
  {
   "cell_type": "code",
   "execution_count": 58,
   "metadata": {},
   "outputs": [
    {
     "name": "stdout",
     "output_type": "stream",
     "text": [
      "Takes 199 s to run\n"
     ]
    }
   ],
   "source": [
    "start = time()\n",
    "\n",
    "pnl_ppo2, date_ppo2, trans_cost_ppo2, actions_ppo2 = evaluator.evaluate(model_ppo2, dev_env)\n",
    "# pnl_ddpg, date_ddpg, trans_cost_ddpg, actions_ddpg = evaluator.evaluate(model_ddpg, dev_env)\n",
    "pnl_a2c, dates_a2c, trans_cost_a2c, actions_a2c = evaluator.evaluate(model_a2c, dev_env)\n",
    "pnl_acktr, dates_acktr, trans_cost_acktr, actions_acktr = evaluator.evaluate(model_acktr, dev_env)\n",
    "# pnl_gail, date_gail, trans_cost_gail, actions_gail = evaluator.evaluate(model_gail, dev_env)\n",
    "\n",
    "end = time()\n",
    "t = end - start\n",
    "print(\"Takes %d s to run\" % t)"
   ]
  },
  {
   "cell_type": "code",
   "execution_count": 59,
   "metadata": {},
   "outputs": [
    {
     "name": "stdout",
     "output_type": "stream",
     "text": [
      "ppo2:  1.5053050281952023\n",
      "a2c:  1.4154397034357662\n",
      "acktr:  -11.88660847630602\n"
     ]
    }
   ],
   "source": [
    "print (\"ppo2: \", evaluator.annual_sharpe(pnl_ppo2))\n",
    "# print (\"ddpg: \", evaluator.annual_sharpe(pnl_ddpg))\n",
    "print (\"a2c: \", evaluator.annual_sharpe(pnl_a2c))\n",
    "print (\"acktr: \", evaluator.annual_sharpe(pnl_acktr))\n",
    "# print (\"gail: \", evaluator.annual_sharpe(pnl_gail))\n"
   ]
  },
  {
   "cell_type": "code",
   "execution_count": 60,
   "metadata": {},
   "outputs": [
    {
     "name": "stdout",
     "output_type": "stream",
     "text": [
      "ppo2:  0.03358896262896351\n",
      "a2c:  0.024810989542830935\n",
      "acktr:  -0.18695800328183207\n"
     ]
    }
   ],
   "source": [
    "print (\"ppo2: \", evaluator.annual_return(pnl_ppo2))\n",
    "# print (\"ddpg: \", evaluator.annual_return(pnl_ddpg))\n",
    "print (\"a2c: \", evaluator.annual_return(pnl_a2c))\n",
    "print (\"acktr: \",evaluator.annual_return(pnl_acktr))\n",
    "# print (\"gail: \", evaluator.annual_return(pnl_gail))\n"
   ]
  },
  {
   "cell_type": "code",
   "execution_count": 61,
   "metadata": {},
   "outputs": [
    {
     "name": "stdout",
     "output_type": "stream",
     "text": [
      "ppo2:  0.0011287902736132117\n",
      "a2c:  0.0008876527185431738\n",
      "acktr:  0.000796325706566281\n"
     ]
    }
   ],
   "source": [
    "print (\"ppo2: \", evaluator.annual_volatility(pnl_ppo2))\n",
    "# print (\"ddpg: \", evaluator.annual_volatility(pnl_ddpg))\n",
    "print (\"a2c: \", evaluator.annual_volatility(pnl_a2c))\n",
    "print (\"acktr: \",evaluator.annual_volatility(pnl_acktr))\n",
    "# print (\"gail: \", evaluator.annual_volatility(pnl_gail))\n"
   ]
  },
  {
   "cell_type": "code",
   "execution_count": 62,
   "metadata": {},
   "outputs": [
    {
     "name": "stdout",
     "output_type": "stream",
     "text": [
      "ppo2:  4.237707\n",
      "a2c:  5.9428806\n",
      "acktr:  61.044918\n"
     ]
    }
   ],
   "source": [
    "print (\"ppo2: \", evaluator.maximum_drawdown(pnl_ppo2))\n",
    "# print (\"ddpg: \", evaluator.maximum_drawdown(pnl_ddpg))\n",
    "print (\"a2c: \", evaluator.maximum_drawdown(pnl_a2c))\n",
    "print (\"acktr: \",evaluator.maximum_drawdown(pnl_acktr))\n",
    "# print (\"gail: \", evaluator.maximum_drawdown(pnl_gail))\n"
   ]
  },
  {
   "cell_type": "code",
   "execution_count": 63,
   "metadata": {},
   "outputs": [
    {
     "name": "stdout",
     "output_type": "stream",
     "text": [
      "ppo2:  3540577.8703639396\n",
      "a2c:  3306771.8715272956\n",
      "acktr:  3986508.523926934\n"
     ]
    }
   ],
   "source": [
    "print (\"ppo2: \", evaluator.annual_turnover(pnl_ppo2))\n",
    "# print (\"ddpg: \", evaluator.annual_turnover(pnl_ddpg))\n",
    "print (\"a2c: \", evaluator.annual_turnover(pnl_a2c))\n",
    "print (\"acktr: \",evaluator.annual_turnover(pnl_acktr))\n",
    "# print (\"gail: \", evaluator.annual_turnover(pnl_gail))"
   ]
  },
  {
   "cell_type": "markdown",
   "metadata": {},
   "source": [
    "## Hyper-parameter tuning"
   ]
  },
  {
   "cell_type": "code",
   "execution_count": 20,
   "metadata": {},
   "outputs": [],
   "source": [
    "import optunity"
   ]
  },
  {
   "cell_type": "code",
   "execution_count": 21,
   "metadata": {},
   "outputs": [
    {
     "name": "stdout",
     "output_type": "stream",
     "text": [
      "-- Data Loaded --\n",
      "-- Environment Created --\n"
     ]
    }
   ],
   "source": [
    "dev_env = equity_env.EquityEnv(split_data=False, test_option=\"develop\")\n",
    "dev_env = DummyVecEnv([lambda: dev_env])"
   ]
  },
  {
   "cell_type": "code",
   "execution_count": null,
   "metadata": {},
   "outputs": [],
   "source": [
    "# search = {\"episode_len\": {\"120\": {\"ent_coef\": [0.01, 0.1],\n",
    "#                                   \"vf_coef\": [0.3, 0.8],\n",
    "#                                   \"cliprange\": [0.1, 0.5],\n",
    "#                                   \"learning_rate\": [1e-7, 1e-3],\n",
    "#                                   \"n_lstm\": [8, 256]},\n",
    "#                           \"480\": {\"ent_coef\": [0.01, 0.1],\n",
    "#                                   \"vf_coef\": [0.3, 0.8],\n",
    "#                                   \"cliprange\": [0.1, 0.5],\n",
    "#                                   \"learning_rate\": [1e-7, 1e-3],\n",
    "#                                   \"n_lstm\": [8, 256]}, \n",
    "#                           \"1200\": {\"ent_coef\": [0.01, 0.1],\n",
    "#                                   \"vf_coef\": [0.3, 0.8],\n",
    "#                                   \"cliprange\": [0.1, 0.5],\n",
    "#                                   \"learning_rate\": [1e-7, 1e-3],\n",
    "#                                   \"n_lstm\": [8, 256]}}}"
   ]
  },
  {
   "cell_type": "code",
   "execution_count": null,
   "metadata": {},
   "outputs": [],
   "source": [
    "def performance(episode_len, ent_coef, vf_coef, cliprange, learning_rate, n_lstm):\n",
    "    ep_len = int(episode_len)\n",
    "    env = equity_env.EquityEnv(split_data=True, episode_length=ep_len)\n",
    "    env = DummyVecEnv([lambda: env])\n",
    "    model = PPO2(MlpLstmPolicy, env, n_steps=240, ent_coef=ent_coef, vf_coef=vf_coef,\n",
    "                 cliprange=cliprange, learning_rate=learning_rate, verbose=0, \n",
    "                 nminibatches=1, policy_kwargs={\"n_lstm\":int(n_lstm), \"layers\":[36,36]})\n",
    "    episode_num = int(200 / (ep_len / 120))\n",
    "    model.learn(total_timesteps=ep_len*episode_num)        \n",
    "    return evaluate_short(model, dev_env)"
   ]
  },
  {
   "cell_type": "code",
   "execution_count": null,
   "metadata": {},
   "outputs": [],
   "source": [
    "t = time()\n",
    "result = performance(\"1\", 0.01, 0.5, 0.2, 1e-4, 36)\n",
    "print(\"Takes %d s to run\" % (time() - t))"
   ]
  },
  {
   "cell_type": "code",
   "execution_count": null,
   "metadata": {},
   "outputs": [],
   "source": [
    "result"
   ]
  },
  {
   "cell_type": "markdown",
   "metadata": {},
   "source": [
    "#### warning: the following two chunks of code can take a long time to run. "
   ]
  },
  {
   "cell_type": "code",
   "execution_count": null,
   "metadata": {},
   "outputs": [],
   "source": [
    "# optimal_configuration, info, _ = optunity.maximize_structured(performance, search_space=search, num_evals=50)"
   ]
  },
  {
   "cell_type": "code",
   "execution_count": null,
   "metadata": {},
   "outputs": [],
   "source": [
    "model = PPO2(MlpLstmPolicy, env, n_steps=240, ent_coef=0.01, vf_coef=0.5,\n",
    "             cliprange=0.2, learning_rate=1e-5, verbose=0, \n",
    "             nminibatches=1, policy_kwargs={\"n_lstm\":36, \"layers\":[36,36]})\n",
    "\n",
    "pnl, dates, trans_cost, actions = evaluator.evaluate(model, dev_env)"
   ]
  },
  {
   "cell_type": "code",
   "execution_count": null,
   "metadata": {},
   "outputs": [],
   "source": [
    "evaluator.annual_sharpe(pnl)"
   ]
  },
  {
   "cell_type": "code",
   "execution_count": null,
   "metadata": {},
   "outputs": [],
   "source": [
    "evaluator.annual_return(pnl)"
   ]
  },
  {
   "cell_type": "code",
   "execution_count": null,
   "metadata": {},
   "outputs": [],
   "source": [
    "evaluator.annual_volatility(pnl)"
   ]
  },
  {
   "cell_type": "code",
   "execution_count": null,
   "metadata": {},
   "outputs": [],
   "source": [
    "evaluator.maximum_drawdown(pnl)"
   ]
  },
  {
   "cell_type": "code",
   "execution_count": null,
   "metadata": {},
   "outputs": [],
   "source": [
    "evaluator.annual_turnover(actions)"
   ]
  },
  {
   "cell_type": "markdown",
   "metadata": {},
   "source": [
    "## Construct Baseline Strategies"
   ]
  },
  {
   "cell_type": "code",
   "execution_count": 64,
   "metadata": {},
   "outputs": [],
   "source": [
    "prices = pd.read_csv(\"data/price.csv\", parse_dates=[0])\n",
    "dates = prices.iloc[:,0].apply(lambda x: pd.to_datetime(x))\n",
    "principal = 1000000"
   ]
  },
  {
   "cell_type": "markdown",
   "metadata": {},
   "source": [
    "### 1. Momentum Strategy"
   ]
  },
  {
   "cell_type": "code",
   "execution_count": 65,
   "metadata": {},
   "outputs": [],
   "source": [
    "# First, need to get return. need to define a look back period\n",
    "def momentum_signal(price_data, look_back, normalize=True):\n",
    "    price_data = prices.iloc[:, [2,4,6]].values\n",
    "    delay_price = np.roll(price_data, look_back, axis=0)\n",
    "    delay_price[:look_back] = np.nan\n",
    "    mom_sig = (price_data - delay_price) / delay_price\n",
    "    if normalize:\n",
    "        mom_sig = mom_sig - mom_sig.mean(axis=1,keepdims=True)\n",
    "        mom_sig = mom_sig / ((mom_sig > 0) * mom_sig).sum(axis=1, keepdims=True)\n",
    "    return mom_sig\n",
    "\n",
    "ret1 = momentum_signal(prices, 1, False)"
   ]
  },
  {
   "cell_type": "code",
   "execution_count": 66,
   "metadata": {},
   "outputs": [
    {
     "name": "stderr",
     "output_type": "stream",
     "text": [
      "/usr/local/lib/python3.5/dist-packages/ipykernel_launcher.py:9: RuntimeWarning: invalid value encountered in greater\n",
      "  if __name__ == '__main__':\n"
     ]
    },
    {
     "data": {
      "image/png": "[encoded data removed]",
      "text/plain": [
       "<Figure size 792x504 with 1 Axes>"
      ]
     },
     "metadata": {},
     "output_type": "display_data"
    },
    {
     "name": "stdout",
     "output_type": "stream",
     "text": [
      "0.6869607785215986\n"
     ]
    }
   ],
   "source": [
    "mom = momentum_signal(prices, 2100)\n",
    "\n",
    "pnl_mom = np.sum(mom * np.roll(ret1, -1, axis=0), axis=1) * principal\n",
    "pnl_mom = np.nan_to_num(pnl_mom)\n",
    "\n",
    "plt.style.use(\"ggplot\")\n",
    "formatter = DateFormatter(dates)\n",
    "fig, ax = plt.subplots(figsize=(11, 7))\n",
    "ax.xaxis.set_major_formatter(formatter)\n",
    "ax.plot(np.arange(pnl_mom.shape[0]), np.cumsum(pnl_mom))\n",
    "fig.autofmt_xdate()\n",
    "plt.show()\n",
    "\n",
    "print(evaluator.annual_sharpe(pnl_mom))"
   ]
  },
  {
   "cell_type": "markdown",
   "metadata": {},
   "source": [
    "### 2. Buy-and-hold Strategy"
   ]
  },
  {
   "cell_type": "code",
   "execution_count": 67,
   "metadata": {},
   "outputs": [
    {
     "data": {
      "image/png": "[encoded data removed]",
      "text/plain": [
       "<Figure size 792x504 with 1 Axes>"
      ]
     },
     "metadata": {},
     "output_type": "display_data"
    },
    {
     "name": "stdout",
     "output_type": "stream",
     "text": [
      "1.4030214749563588\n"
     ]
    }
   ],
   "source": [
    "mut = ret1+1\n",
    "mut[0] = 1\n",
    "pnl_hold = np.sum((np.cumprod(mut, axis=0)-1) / 3 * principal, axis=1)\n",
    "pnl_hold = pnl_hold - np.roll(pnl_hold, 1)\n",
    "pnl_hold[0] = 0\n",
    "plt.style.use(\"ggplot\")\n",
    "formatter = DateFormatter(dates)\n",
    "fig, ax = plt.subplots(figsize=(11, 7))\n",
    "ax.xaxis.set_major_formatter(formatter)\n",
    "ax.plot(np.arange(pnl_hold.shape[0]), np.cumsum(pnl_hold))\n",
    "fig.autofmt_xdate()\n",
    "plt.show()\n",
    "\n",
    "print(evaluator.annual_sharpe(pnl_hold))"
   ]
  },
  {
   "cell_type": "markdown",
   "metadata": {},
   "source": [
    "### 3. Compare RL with the baseline strategies"
   ]
  },
  {
   "cell_type": "code",
   "execution_count": 68,
   "metadata": {},
   "outputs": [],
   "source": [
    "import pickle"
   ]
  },
  {
   "cell_type": "code",
   "execution_count": 69,
   "metadata": {},
   "outputs": [],
   "source": [
    "with open(\"outputs/model_pnl_35000.dms\", \"rb\") as f:\n",
    "    pnl_ppo = pickle.load(f)"
   ]
  },
  {
   "cell_type": "code",
   "execution_count": 70,
   "metadata": {},
   "outputs": [],
   "source": [
    "n = pnl_ppo.shape[0]\n",
    "pnl_mom = pnl_mom[:n]\n",
    "pnl_hold = pnl_hold[:n]"
   ]
  },
  {
   "cell_type": "code",
   "execution_count": 72,
   "metadata": {},
   "outputs": [
    {
     "data": {
      "image/png": "[encoded data removed]",
      "text/plain": [
       "<Figure size 792x504 with 1 Axes>"
      ]
     },
     "metadata": {},
     "output_type": "display_data"
    }
   ],
   "source": [
    "plt.style.use(\"ggplot\")\n",
    "formatter = DateFormatter(dates)\n",
    "fig, ax = plt.subplots(figsize=(11, 7))\n",
    "ax.xaxis.set_major_formatter(formatter)\n",
    "ax.plot(np.arange(pnl_mom.shape[0]), np.cumsum(pnl_mom), c=\"r\", label=\"Momentum\")\n",
    "ax.plot(np.arange(pnl_hold.shape[0]), np.cumsum(pnl_hold), c=\"b\", label=\"Buy and Hold\")\n",
    "ax.plot(np.arange(pnl_ppo.shape[0]), np.cumsum(pnl_ppo), c=\"k\", label=\"PPO Agent\")\n",
    "ax.plot(np.arange(pnl_ppo2.shape[0]), np.cumsum(pnl_ppo2), c=\"y\", label=\"PPO2 Agent\")\n",
    "ax.plot(np.arange(pnl_a2c.shape[0]), np.cumsum(pnl_a2c), c=\"m\", label=\"A2C Agent\")\n",
    "ax.plot(np.arange(pnl_acktr.shape[0]), np.cumsum(pnl_acktr), c=\"g\", label=\"ACKTR Agent\")\n",
    "\n",
    "fig.autofmt_xdate()\n",
    "plt.legend()\n",
    "plt.show()"
   ]
  },
  {
   "cell_type": "code",
   "execution_count": 73,
   "metadata": {},
   "outputs": [
    {
     "name": "stdout",
     "output_type": "stream",
     "text": [
      "buy and hold:  1.290701596957831\n",
      "Momentum:  0.5092986197693166\n",
      "ppo pretrained:  7.738935430798078\n",
      "ppo2:  1.5053050281952023\n",
      "a2c:  1.4154397034357662\n",
      "acktr:  -11.88660847630602\n"
     ]
    }
   ],
   "source": [
    "print (\"buy and hold: \", evaluator.annual_sharpe(pnl_hold))\n",
    "print (\"Momentum: \", evaluator.annual_sharpe(pnl_mom))\n",
    "print (\"ppo pretrained: \", evaluator.annual_sharpe(pnl_ppo))\n",
    "\n",
    "print (\"ppo2: \", evaluator.annual_sharpe(pnl_ppo2))\n",
    "# print (\"ddpg: \", evaluator.annual_sharpe(pnl_ddpg))\n",
    "print (\"a2c: \", evaluator.annual_sharpe(pnl_a2c))\n",
    "print (\"acktr: \", evaluator.annual_sharpe(pnl_acktr))\n",
    "# print (\"gail: \", evaluator.annual_sharpe(pnl_gail))"
   ]
  },
  {
   "cell_type": "code",
   "execution_count": 74,
   "metadata": {},
   "outputs": [
    {
     "name": "stdout",
     "output_type": "stream",
     "text": [
      "buy and hold:  0.4212974266840264\n",
      "Momentum:  0.13128965114428454\n",
      "ppo pretrained:  3.1184817582615683\n",
      "ppo2:  0.03358896262896351\n",
      "a2c:  0.024810989542830935\n",
      "acktr:  -0.18695800328183207\n"
     ]
    }
   ],
   "source": [
    "print (\"buy and hold: \", evaluator.annual_return(pnl_hold))\n",
    "print (\"Momentum: \", evaluator.annual_return(pnl_mom))\n",
    "print (\"ppo pretrained: \", evaluator.annual_return(pnl_ppo))\n",
    "\n",
    "print (\"ppo2: \", evaluator.annual_return(pnl_ppo2))\n",
    "# print (\"ddpg: \", evaluator.annual_return(pnl_ddpg))\n",
    "print (\"a2c: \", evaluator.annual_return(pnl_a2c))\n",
    "print (\"acktr: \",evaluator.annual_return(pnl_acktr))\n",
    "# print (\"gail: \", evaluator.annual_return(pnl_gail))"
   ]
  },
  {
   "cell_type": "code",
   "execution_count": 75,
   "metadata": {},
   "outputs": [
    {
     "name": "stdout",
     "output_type": "stream",
     "text": [
      "buy and hold:  0.016526553204027204\n",
      "Momentum:  0.013035228758318574\n",
      "ppo pretrained:  3.1184817582615683\n",
      "ppo2:  0.0011287902736132117\n",
      "a2c:  0.0008876527185431738\n",
      "acktr:  0.000796325706566281\n"
     ]
    }
   ],
   "source": [
    "print (\"buy and hold: \", evaluator.annual_volatility(pnl_hold))\n",
    "print (\"Momentum: \", evaluator.annual_volatility(pnl_mom))\n",
    "print (\"ppo pretrained: \", evaluator.annual_return(pnl_ppo))\n",
    "\n",
    "print (\"ppo2: \", evaluator.annual_volatility(pnl_ppo2))\n",
    "# print (\"ddpg: \", evaluator.annual_volatility(pnl_ddpg))\n",
    "print (\"a2c: \", evaluator.annual_volatility(pnl_a2c))\n",
    "print (\"acktr: \",evaluator.annual_volatility(pnl_acktr))\n",
    "# print (\"gail: \", evaluator.annual_volatility(pnl_gail))"
   ]
  },
  {
   "cell_type": "code",
   "execution_count": 76,
   "metadata": {},
   "outputs": [
    {
     "name": "stdout",
     "output_type": "stream",
     "text": [
      "buy and hold:  86527701.71825339\n",
      "Momentum:  71896563.41905293\n",
      "ppo pretrained:  109629239.616\n",
      "ppo2:  3540577.8703639396\n",
      "a2c:  3306771.8715272956\n",
      "acktr:  3986508.523926934\n"
     ]
    }
   ],
   "source": [
    "print (\"buy and hold: \", evaluator.annual_turnover(pnl_hold))\n",
    "print (\"Momentum: \", evaluator.annual_turnover(pnl_mom))\n",
    "print (\"ppo pretrained: \", evaluator.annual_turnover(pnl_ppo))\n",
    "\n",
    "print (\"ppo2: \", evaluator.annual_turnover(pnl_ppo2))\n",
    "# print (\"ddpg: \", evaluator.annual_turnover(pnl_ddpg))\n",
    "print (\"a2c: \", evaluator.annual_turnover(pnl_a2c))\n",
    "print (\"acktr: \",evaluator.annual_turnover(pnl_acktr))\n",
    "# print (\"gail: \", evaluator.annual_turnover(pnl_gail))"
   ]
  },
  {
   "cell_type": "code",
   "execution_count": 77,
   "metadata": {},
   "outputs": [
    {
     "name": "stdout",
     "output_type": "stream",
     "text": [
      "buy and hold:  1.5495394926428547\n",
      "Momentum:  1.5841917099618854\n",
      "ppo pretrained:  0.43500876\n",
      "ppo2:  4.237707\n",
      "a2c:  5.9428806\n",
      "acktr:  61.044918\n"
     ]
    }
   ],
   "source": [
    "print (\"buy and hold: \", evaluator.maximum_drawdown(pnl_hold))\n",
    "print (\"Momentum: \", evaluator.maximum_drawdown(pnl_mom))\n",
    "print (\"ppo pretrained: \", evaluator.maximum_drawdown(pnl_ppo))\n",
    "\n",
    "\n",
    "print (\"ppo2: \", evaluator.maximum_drawdown(pnl_ppo2))\n",
    "# print (\"ddpg: \", evaluator.maximum_drawdown(pnl_ddpg))\n",
    "print (\"a2c: \", evaluator.maximum_drawdown(pnl_a2c))\n",
    "print (\"acktr: \",evaluator.maximum_drawdown(pnl_acktr))\n",
    "# print (\"gail: \", evaluator.maximum_drawdown(pnl_gail))"
   ]
  },
  {
   "cell_type": "code",
   "execution_count": null,
   "metadata": {},
   "outputs": [],
   "source": []
  },
  {
   "cell_type": "code",
   "execution_count": null,
   "metadata": {},
   "outputs": [],
   "source": []
  }
 ],
 "metadata": {
  "kernelspec": {
   "display_name": "Python 3",
   "language": "python",
   "name": "python3"
  },
  "language_info": {
   "codemirror_mode": {
    "name": "ipython",
    "version": 3
   },
   "file_extension": ".py",
   "mimetype": "text/x-python",
   "name": "python",
   "nbconvert_exporter": "python",
   "pygments_lexer": "ipython3",
   "version": "3.5.3"
  }
 },
 "nbformat": 4,
 "nbformat_minor": 4
}
