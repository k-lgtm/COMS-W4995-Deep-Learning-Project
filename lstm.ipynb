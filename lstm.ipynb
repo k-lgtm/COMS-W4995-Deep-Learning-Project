{
  "nbformat": 4,
  "nbformat_minor": 0,
  "metadata": {
    "colab": {
      "name": "lstm.ipynb",
      "provenance": [],
      "collapsed_sections": []
    },
    "kernelspec": {
      "name": "python3",
      "display_name": "Python 3"
    },
    "accelerator": "GPU"
  },
  "cells": [
    {
      "cell_type": "code",
      "metadata": {
        "id": "UX2BRIJ8R4BG",
        "colab_type": "code",
        "colab": {}
      },
      "source": [
        "from google.colab import drive\n",
        "drive.mount('/content/gdrive')"
      ],
      "execution_count": 0,
      "outputs": []
    },
    {
      "cell_type": "code",
      "metadata": {
        "id": "c8la4a3iR-Ko",
        "colab_type": "code",
        "colab": {}
      },
      "source": [
        "import os\n",
        "os.chdir(\"/content/gdrive/My Drive/4995_Competition/4995_kaggle_competition\")"
      ],
      "execution_count": 0,
      "outputs": []
    },
    {
      "cell_type": "markdown",
      "metadata": {
        "id": "siMf8Xgpi_p3",
        "colab_type": "text"
      },
      "source": [
        "# Data Processing"
      ]
    },
    {
      "cell_type": "markdown",
      "metadata": {
        "id": "KMZAUFHrsG9L",
        "colab_type": "text"
      },
      "source": [
        "### Load data"
      ]
    },
    {
      "cell_type": "code",
      "metadata": {
        "id": "gvhgeI7eSCPw",
        "colab_type": "code",
        "colab": {}
      },
      "source": [
        "import pandas as pd\n",
        "import numpy as np\n",
        "\n",
        "# fix random seed for reproducibility\n",
        "np.random.seed(7)\n",
        "\n",
        "data = pd.read_csv('train.csv')\n",
        "dates = data['Unnamed: 0']\n",
        "\n",
        "data.shape, dates.shape"
      ],
      "execution_count": 0,
      "outputs": []
    },
    {
      "cell_type": "markdown",
      "metadata": {
        "id": "DG5pKXkNh5L1",
        "colab_type": "text"
      },
      "source": [
        "### Fill NaN values"
      ]
    },
    {
      "cell_type": "code",
      "metadata": {
        "id": "bxIinBDFSJ-b",
        "colab_type": "code",
        "colab": {}
      },
      "source": [
        "# Fill data with the last known value\n",
        "data = data.fillna(method='backfill', axis='rows', inplace=False)\n",
        "#all_data = all_data.fillna(method='backfill', axis='rows', inplace=False)\n",
        "\n",
        "# Then, if there are still missing values, fill with 0\n",
        "data = data.fillna(value=0, axis='rows', inplace=False)\n",
        "#all_data = all_data.fillna(value=0, axis='rows', inplace=False)\n",
        "\n",
        "prices = data.iloc[:, 1:]"
      ],
      "execution_count": 0,
      "outputs": []
    },
    {
      "cell_type": "markdown",
      "metadata": {
        "id": "C46I3Gc1ktgG",
        "colab_type": "text"
      },
      "source": [
        "### Manually create dataset for recurrent network\n",
        "- default lookback period: 25 days\n",
        "- sample dimension: lookback period x 505 stocks"
      ]
    },
    {
      "cell_type": "code",
      "metadata": {
        "id": "s1G3aRj8jC2s",
        "colab_type": "code",
        "colab": {}
      },
      "source": [
        "rets = prices.pct_change().fillna(value=1e-7, axis='rows', inplace=False)"
      ],
      "execution_count": 0,
      "outputs": []
    },
    {
      "cell_type": "code",
      "metadata": {
        "id": "pHwshfQudmzw",
        "colab_type": "code",
        "colab": {}
      },
      "source": [
        "from sklearn.preprocessing import MinMaxScaler\n",
        "\n",
        "def create_recurrent_data(prices, rets, lookback_period=25, normalize=True):\n",
        "    X = []\n",
        "    y = []\n",
        "\n",
        "    if normalize:\n",
        "        scaler = MinMaxScaler(feature_range=(0, 1))\n",
        "\n",
        "    for i in range(prices.shape[0]-lookback_period):\n",
        "        labels = prices.iloc[i:i+lookback_period,:].to_numpy()\n",
        "        targets = rets.iloc[i+lookback_period,:].to_numpy()\n",
        "        \n",
        "        if normalize:\n",
        "            labels = scaler.fit_transform(labels)\n",
        "        if np.isnan(targets).any():\n",
        "            print(\"yes\")\n",
        "            print(i+lookback_period, targets)\n",
        "\n",
        "        X.append(labels)\n",
        "        y.append(targets)\n",
        "\n",
        "    return np.array(X), np.array(y)\n",
        "\n",
        "X, y = create_recurrent_data(prices, rets, lookback_period=50, normalize=False)"
      ],
      "execution_count": 0,
      "outputs": []
    },
    {
      "cell_type": "markdown",
      "metadata": {
        "id": "9e_GyDYXhlvq",
        "colab_type": "text"
      },
      "source": [
        "### Train/Test Split\n",
        "- default: 80/20 split"
      ]
    },
    {
      "cell_type": "code",
      "metadata": {
        "id": "NRNtLw7FfPEo",
        "colab_type": "code",
        "colab": {}
      },
      "source": [
        "def train_test_split(X, y, train_size=0.8):\n",
        "    \"\"\"\n",
        "    return: X_train, y_train, X_test, y_test\n",
        "    \"\"\"\n",
        "    assert len(X) == len(y)\n",
        "    \n",
        "    split_idx = int(len(X) * train_size)\n",
        "    return X[:split_idx], y[:split_idx], X[split_idx:], y[split_idx:]\n",
        "\n",
        "X_train, y_train, X_val, y_val = train_test_split(X, y, train_size=0.8)"
      ],
      "execution_count": 0,
      "outputs": []
    },
    {
      "cell_type": "code",
      "metadata": {
        "id": "YXPsqa-CoomY",
        "colab_type": "code",
        "colab": {}
      },
      "source": [
        "for x in X_train:\n",
        "    if np.isnan(x).any():\n",
        "        print('x')\n",
        "    \n",
        "for y in y_train:\n",
        "    if np.isnan(y).any():\n",
        "        print('y')"
      ],
      "execution_count": 0,
      "outputs": []
    },
    {
      "cell_type": "markdown",
      "metadata": {
        "id": "Lt35WjpzsYeC",
        "colab_type": "text"
      },
      "source": [
        "# Create model\n"
      ]
    },
    {
      "cell_type": "code",
      "metadata": {
        "id": "mTwB-xKKsXug",
        "colab_type": "code",
        "colab": {}
      },
      "source": [
        "from keras.models import Sequential\n",
        "from keras.layers import Dense, CuDNNLSTM, Dropout, BatchNormalization\n",
        "from keras.optimizers import Adam\n",
        "\n",
        "def create_model(window, n_stocks=506, lr=0.1, dropout=0.2, loss='mse'):\n",
        "    optim = Adam(lr=lr)\n",
        "\n",
        "    model = Sequential()\n",
        "    model.add(CuDNNLSTM(units=256, return_sequences=True, input_shape=(window, n_stocks)))\n",
        "    model.add(Dropout(dropout))\n",
        "    model.add(BatchNormalization())\n",
        "    model.add(CuDNNLSTM(units=256, return_sequences=True))\n",
        "    model.add(Dropout(dropout))\n",
        "    model.add(BatchNormalization())\n",
        "    model.add(CuDNNLSTM(units=256))\n",
        "    model.add(BatchNormalization())\n",
        "    model.add(Dense(units=n_stocks))\n",
        "    model.compile(optimizer=optim, loss=loss)\n",
        "    return model\n",
        "\n",
        "window = 50\n",
        "lstm = create_model(window)\n",
        "lstm.summary()"
      ],
      "execution_count": 0,
      "outputs": []
    },
    {
      "cell_type": "markdown",
      "metadata": {
        "id": "BFMoeuvClYlo",
        "colab_type": "text"
      },
      "source": [
        "# Train"
      ]
    },
    {
      "cell_type": "code",
      "metadata": {
        "id": "V9HF53W8nuyr",
        "colab_type": "code",
        "colab": {}
      },
      "source": [
        "lstm.fit(X_train, y_train, epochs=100, validation_data=[X_val, y_val], shuffle=False)"
      ],
      "execution_count": 0,
      "outputs": []
    },
    {
      "cell_type": "code",
      "metadata": {
        "id": "wdx3CD4QdKfB",
        "colab_type": "code",
        "colab": {}
      },
      "source": [
        "A = prices.iloc[:,0]\n",
        "model = create_model(window, n_stocks=1, lr=0.001, dropout=0.2, loss='mse')"
      ],
      "execution_count": 0,
      "outputs": []
    },
    {
      "cell_type": "code",
      "metadata": {
        "id": "Y2I_HWxwe1qN",
        "colab_type": "code",
        "colab": {}
      },
      "source": [
        "A = np.reshape(A.to_numpy(), (-1, 1))\n",
        "A.shape"
      ],
      "execution_count": 0,
      "outputs": []
    },
    {
      "cell_type": "code",
      "metadata": {
        "id": "C2_mufmBdK2L",
        "colab_type": "code",
        "colab": {}
      },
      "source": [
        "from sklearn.preprocessing import MinMaxScaler\n",
        "\n",
        "def create_recurrent_data(data, lookback_period=25, normalize=True):\n",
        "    X = []\n",
        "    y = []\n",
        "\n",
        "    if normalize:\n",
        "        scaler = MinMaxScaler(feature_range=(0, 1))\n",
        "\n",
        "    for i in range(data.shape[0]-lookback_period):\n",
        "        labels = data[i:i+lookback_period]\n",
        "        targets = data[i+lookback_period]\n",
        "        \n",
        "        if normalize:\n",
        "            labels = scaler.fit_transform(labels)\n",
        "\n",
        "        X.append(labels)\n",
        "        y.append(targets)\n",
        "                \n",
        "    return np.array(X), np.array(y)\n",
        "\n",
        "X_a, y_a = create_recurrent_data(A, lookback_period=window)"
      ],
      "execution_count": 0,
      "outputs": []
    },
    {
      "cell_type": "code",
      "metadata": {
        "id": "rzRwkd1cev4w",
        "colab_type": "code",
        "colab": {}
      },
      "source": [
        "model.fit(X_a, y_a)"
      ],
      "execution_count": 0,
      "outputs": []
    },
    {
      "cell_type": "code",
      "metadata": {
        "id": "8sXsGPMdfYm-",
        "colab_type": "code",
        "colab": {}
      },
      "source": [
        ""
      ],
      "execution_count": 0,
      "outputs": []
    },
    {
      "cell_type": "markdown",
      "metadata": {
        "id": "HFZcePZrpVCE",
        "colab_type": "text"
      },
      "source": [
        "# Create submission"
      ]
    },
    {
      "cell_type": "code",
      "metadata": {
        "id": "w-PjMCNrpW_G",
        "colab_type": "code",
        "colab": {}
      },
      "source": [
        "def create_submission(model, Xte, file_name):\n",
        "    import pandas as pd\n",
        "    import numpy as np\n",
        "\n",
        "    predictions = model.predict(Xtest)\n",
        "\n",
        "    if predictions.shape[0] != 51630:\n",
        "        raise Exception(\"WRONG SIZE\")\n",
        "    \n",
        "    if round_predictions:\n",
        "        file_name = file_name+ '_round'\n",
        "        predictions = np.rint(predictions)\n",
        "\n",
        "    dataid = np.arange(1, Xtest.shape[0]+1)\n",
        "    df = pd.DataFrame({'dataid':dataid, 'prediction': predictions.flatten()})\n",
        "    df.to_csv(file_name+'.csv', index=False)\n",
        "\n",
        "    print(\"Submission: {}.csv Created\".format(file_name))"
      ],
      "execution_count": 0,
      "outputs": []
    },
    {
      "cell_type": "code",
      "metadata": {
        "id": "obBsQSUwqyD1",
        "colab_type": "code",
        "colab": {}
      },
      "source": [
        ""
      ],
      "execution_count": 0,
      "outputs": []
    },
    {
      "cell_type": "code",
      "metadata": {
        "id": "RArp64efqyGv",
        "colab_type": "code",
        "colab": {}
      },
      "source": [
        ""
      ],
      "execution_count": 0,
      "outputs": []
    },
    {
      "cell_type": "code",
      "metadata": {
        "id": "Iw29DyqxqyJM",
        "colab_type": "code",
        "colab": {}
      },
      "source": [
        ""
      ],
      "execution_count": 0,
      "outputs": []
    }
  ]
}