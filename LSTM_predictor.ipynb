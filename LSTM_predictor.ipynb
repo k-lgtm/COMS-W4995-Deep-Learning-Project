{
 "cells": [
  {
   "cell_type": "code",
   "execution_count": 1,
   "metadata": {},
   "outputs": [],
   "source": [
    "%matplotlib inline\n",
    "import matplotlib\n",
    "import matplotlib.pyplot as plt\n",
    "import numpy as np\n",
    "import pandas as pd\n",
    "from collections import deque\n",
    "from sklearn.preprocessing import StandardScaler"
   ]
  },
  {
   "cell_type": "markdown",
   "metadata": {},
   "source": [
    "### Specify some constants"
   ]
  },
  {
   "cell_type": "code",
   "execution_count": 2,
   "metadata": {},
   "outputs": [],
   "source": [
    "# How many days do we want to predict into future\n",
    "predict_len = 3\n",
    "# How many percent of the data is training set\n",
    "train_pct = 0.8\n",
    "# Which stock do you want to predict\n",
    "pre_stock = \"Google\"\n",
    "# How many data do you use to predict\n",
    "window_len = 120"
   ]
  },
  {
   "cell_type": "markdown",
   "metadata": {},
   "source": [
    "### Load and concatenate the dataset"
   ]
  },
  {
   "cell_type": "code",
   "execution_count": 8,
   "metadata": {},
   "outputs": [],
   "source": [
    "stock_list = [\"google\", \"amazon\", \"microsoft\"]\n",
    "data_list = []\n",
    "for stock in stock_list:\n",
    "    df = pd.read_excel(\"data/%s.xlsx\" % stock)\n",
    "    df[\"Dates\"] = df[\"Dates\"].apply(lambda x: pd.to_datetime(x))\n",
    "    df.set_index(\"Dates\", inplace=True)\n",
    "    df.drop([\"Value\", \"Number Ticks\"], axis=1, inplace=True)\n",
    "    df.rename(lambda x: stock[0]+\"_\"+x.lower(), axis=1, inplace=True)\n",
    "    data_list.append(df)\n",
    "data = pd.concat(data_list, join=\"inner\", axis=1)"
   ]
  },
  {
   "cell_type": "markdown",
   "metadata": {},
   "source": [
    "### Check NaNs"
   ]
  },
  {
   "cell_type": "code",
   "execution_count": 9,
   "metadata": {},
   "outputs": [
    {
     "data": {
      "text/plain": [
       "g_open      0\n",
       "g_close     0\n",
       "g_high      0\n",
       "g_low       0\n",
       "g_volume    0\n",
       "a_open      0\n",
       "a_close     0\n",
       "a_high      0\n",
       "a_low       0\n",
       "a_volume    0\n",
       "m_open      0\n",
       "m_close     0\n",
       "m_high      0\n",
       "m_low       0\n",
       "m_volume    0\n",
       "dtype: int64"
      ]
     },
     "execution_count": 9,
     "metadata": {},
     "output_type": "execute_result"
    }
   ],
   "source": [
    "data.isnull().sum()"
   ]
  },
  {
   "cell_type": "markdown",
   "metadata": {},
   "source": [
    "### Create the target: return"
   ]
  },
  {
   "cell_type": "code",
   "execution_count": 10,
   "metadata": {},
   "outputs": [],
   "source": [
    "ret = (data[[\"g_close\", \"a_close\", \"m_close\"]].shift(-predict_len) - data[[\"g_close\", \"a_close\", \"m_close\"]]) / data[[\"g_close\", \"a_close\", \"m_close\"]].values"
   ]
  },
  {
   "cell_type": "code",
   "execution_count": 11,
   "metadata": {},
   "outputs": [],
   "source": [
    "data[\"target\"] = ret[pre_stock.lower()[0]+\"_close\"]"
   ]
  },
  {
   "cell_type": "code",
   "execution_count": 12,
   "metadata": {},
   "outputs": [
    {
     "data": {
      "text/plain": [
       "(36007, 16)"
      ]
     },
     "execution_count": 12,
     "metadata": {},
     "output_type": "execute_result"
    }
   ],
   "source": [
    "data.shape"
   ]
  },
  {
   "cell_type": "code",
   "execution_count": 13,
   "metadata": {},
   "outputs": [],
   "source": [
    "data.dropna(axis=0, inplace=True)"
   ]
  },
  {
   "cell_type": "markdown",
   "metadata": {},
   "source": [
    "### Split train and test"
   ]
  },
  {
   "cell_type": "code",
   "execution_count": 14,
   "metadata": {},
   "outputs": [],
   "source": [
    "train_size = int(train_pct*data.shape[0])\n",
    "train_data = data.iloc[:train_size]\n",
    "test_data = data.iloc[train_size:]"
   ]
  },
  {
   "cell_type": "markdown",
   "metadata": {},
   "source": [
    "### Scale the data (now we have scaled both the dependent and independent variables)"
   ]
  },
  {
   "cell_type": "code",
   "execution_count": 15,
   "metadata": {},
   "outputs": [],
   "source": [
    "def scale_data(df):\n",
    "    scaler = StandardScaler()\n",
    "    scaler.fit(df)\n",
    "    return scaler"
   ]
  },
  {
   "cell_type": "code",
   "execution_count": 16,
   "metadata": {},
   "outputs": [],
   "source": [
    "scaler = scale_data(train_data)\n",
    "train_arr = scaler.transform(train_data)\n",
    "test_arr = scaler.transform(test_data)"
   ]
  },
  {
   "cell_type": "markdown",
   "metadata": {},
   "source": [
    "### Create sequence data"
   ]
  },
  {
   "cell_type": "code",
   "execution_count": 17,
   "metadata": {},
   "outputs": [],
   "source": [
    "def sequential_data(df, window_length=window_len):\n",
    "    X = []\n",
    "    y = []\n",
    "    prediction_data = deque(maxlen=window_length)\n",
    "    for row in df.values:\n",
    "        prediction_data.append(row[:-1])\n",
    "        if len(prediction_data) == window_length:\n",
    "            X.append(np.array(prediction_data))\n",
    "            y.append(row[-1])\n",
    "    return np.array(X), np.array(y)"
   ]
  },
  {
   "cell_type": "code",
   "execution_count": 19,
   "metadata": {},
   "outputs": [],
   "source": [
    "train_X, train_y = sequential_data(train_data)\n",
    "test_X, test_y = sequential_data(test_data)"
   ]
  },
  {
   "cell_type": "markdown",
   "metadata": {},
   "source": [
    "### Shuffle the train data"
   ]
  },
  {
   "cell_type": "code",
   "execution_count": 29,
   "metadata": {},
   "outputs": [],
   "source": [
    "train_n = train_X.shape[0]\n",
    "rind = np.random.choice(train_n, train_n, replace=False)\n",
    "train_X = train_X[rind]\n",
    "train_y = train_y[rind]"
   ]
  },
  {
   "cell_type": "markdown",
   "metadata": {},
   "source": [
    "### building networks"
   ]
  },
  {
   "cell_type": "code",
   "execution_count": 20,
   "metadata": {},
   "outputs": [],
   "source": [
    "import tensorflow as tf\n",
    "from tensorflow.keras.models import Sequential\n",
    "from tensorflow.keras.layers import Dense, Dropout, LSTM, CuDNNLSTM, BatchNormalization\n",
    "from tensorflow.keras.callbacks import TensorBoard\n",
    "from tensorflow.keras.callbacks import ModelCheckpoint"
   ]
  },
  {
   "cell_type": "code",
   "execution_count": null,
   "metadata": {},
   "outputs": [],
   "source": [
    "## my question is just, what does it mean to have 128 cells for LSTM? \n",
    "## and what does batch normalization mean?"
   ]
  },
  {
   "cell_type": "code",
   "execution_count": 32,
   "metadata": {},
   "outputs": [],
   "source": [
    "model = Sequential()\n",
    "\n",
    "model.add(CuDNNLSTM(128, input_shape=(train_X.shape[1:]), return_sequences=True))\n",
    "model.add(Dropout(0.2))\n",
    "model.add(BatchNormalization())\n",
    "\n",
    "model.add(CuDNNLSTM(128, return_sequences=True))\n",
    "model.add(Dropout(0.2))\n",
    "model.add(BatchNormalization())\n",
    "\n",
    "model.add(CuDNNLSTM(128))\n",
    "model.add(Dropout(0.2))\n",
    "model.add(BatchNormalization())\n",
    "\n",
    "model.add(Dense(32, activation='relu'))\n",
    "model.add(Dropout(0.2))\n",
    "\n",
    "model.add(Dense(1))"
   ]
  },
  {
   "cell_type": "code",
   "execution_count": 33,
   "metadata": {},
   "outputs": [],
   "source": [
    "opt = tf.keras.optimizers.Adam(lr=0.001, decay=1e-6)\n",
    "# Compile model\n",
    "model.compile(\n",
    "    loss='mean_squared_error',\n",
    "    optimizer=opt,\n",
    "    metrics=['mean_squared_error']\n",
    ")"
   ]
  },
  {
   "cell_type": "code",
   "execution_count": null,
   "metadata": {},
   "outputs": [],
   "source": []
  }
 ],
 "metadata": {
  "kernelspec": {
   "display_name": "Python 3",
   "language": "python",
   "name": "python3"
  },
  "language_info": {
   "codemirror_mode": {
    "name": "ipython",
    "version": 3
   },
   "file_extension": ".py",
   "mimetype": "text/x-python",
   "name": "python",
   "nbconvert_exporter": "python",
   "pygments_lexer": "ipython3",
   "version": "3.5.3"
  }
 },
 "nbformat": 4,
 "nbformat_minor": 4
}
