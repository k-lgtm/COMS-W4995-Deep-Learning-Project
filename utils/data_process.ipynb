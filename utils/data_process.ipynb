{
 "cells": [
  {
   "cell_type": "code",
   "execution_count": 1,
   "metadata": {},
   "outputs": [
    {
     "name": "stderr",
     "output_type": "stream",
     "text": [
      "D:\\Software\\Anaconda3\\lib\\site-packages\\ipykernel\\parentpoller.py:116: UserWarning: Parent poll failed.  If the frontend dies,\n",
      "                the kernel may be left running.  Please let us know\n",
      "                about your system (bitness, Python, etc.) at\n",
      "                ipython-dev@scipy.org\n",
      "  ipython-dev@scipy.org\"\"\")\n"
     ]
    }
   ],
   "source": [
    "import pandas as pd\n",
    "import numpy as np\n",
    "from sklearn.preprocessing import StandardScaler"
   ]
  },
  {
   "cell_type": "code",
   "execution_count": 62,
   "metadata": {},
   "outputs": [],
   "source": [
    "# generate state data\n",
    "gg = pd.read_excel(\"google.xlsx\")\n",
    "am = pd.read_excel(\"amazon.xlsx\")\n",
    "ms = pd.read_excel(\"microsoft.xlsx\")\n",
    "\n",
    "gg = gg.set_index(\"Dates\")\n",
    "am = am.set_index(\"Dates\")\n",
    "ms = ms.set_index(\"Dates\")\n",
    "\n",
    "gg.Close = gg.Close - gg.Open\n",
    "gg.High = gg.High - gg.Open\n",
    "gg.Low = gg.Low - gg.Open\n",
    "am.Close = am.Close - am.Open\n",
    "am.High = am.High - am.Open\n",
    "am.Low = am.Low - am.Open\n",
    "ms.Close = ms.Close - ms.Open\n",
    "ms.High = ms.High - ms.Open\n",
    "ms.Low = ms.Low - ms.Open\n",
    "gg.drop(['Value', 'Number Ticks'], axis=1, inplace=True)\n",
    "am.drop(['Value', 'Number Ticks'], axis=1, inplace=True)\n",
    "ms.drop(['Value', 'Number Ticks'], axis=1, inplace=True)\n",
    "\n",
    "scaler = StandardScaler()\n",
    "ggs = pd.DataFrame(scaler.fit_transform(gg), index=gg.index, columns=gg.columns)\n",
    "ams = pd.DataFrame(scaler.fit_transform(am), index=am.index, columns=am.columns)\n",
    "mss = pd.DataFrame(scaler.fit_transform(ms), index=ms.index, columns=ms.columns)\n",
    "ggs.columns = [f.lower() for f in ggs.columns]\n",
    "ams.columns = [f.lower() for f in ams.columns]\n",
    "mss.columns = [f.lower() for f in mss.columns]\n",
    "\n",
    "temp = pd.merge(ggs, ams, on=\"Dates\", how=\"inner\", suffixes=['_gg', '_am'])\n",
    "mss.columns = [f+\"_ms\" for f in mss.columns]\n",
    "state = pd.merge(temp, mss, on=\"Dates\", how=\"inner\")\n",
    "state = state[:-20]   # Don't trade in the last 20 minutes\n",
    "state.to_csv(\"state.csv\")"
   ]
  },
  {
   "cell_type": "code",
   "execution_count": 64,
   "metadata": {},
   "outputs": [],
   "source": [
    "# generate price data\n",
    "gg = pd.read_excel(\"google.xlsx\")\n",
    "am = pd.read_excel(\"amazon.xlsx\")\n",
    "ms = pd.read_excel(\"microsoft.xlsx\")\n",
    "\n",
    "gg = gg.set_index(\"Dates\")\n",
    "am = am.set_index(\"Dates\")\n",
    "ms = ms.set_index(\"Dates\")\n",
    "\n",
    "gg.columns = [f.lower() for f in gg.columns]\n",
    "am.columns = [f.lower() for f in am.columns]\n",
    "ms.columns = [f.lower() for f in ms.columns]\n",
    "\n",
    "temp = pd.merge(gg.loc[:,[\"open\", \"close\"]], am.loc[:,[\"open\", \"close\"]], on=\"Dates\", how=\"inner\", suffixes=['_gg', '_am'])\n",
    "ms.columns = [f+\"_ms\" for f in ms.columns]\n",
    "price = pd.merge(temp, ms.loc[:,[\"open_ms\", \"close_ms\"]], on=\"Dates\", how=\"inner\")\n",
    "price.to_csv(\"price.csv\")"
   ]
  },
  {
   "cell_type": "code",
   "execution_count": 65,
   "metadata": {},
   "outputs": [
    {
     "data": {
      "text/html": [
       "<div>\n",
       "<style scoped>\n",
       "    .dataframe tbody tr th:only-of-type {\n",
       "        vertical-align: middle;\n",
       "    }\n",
       "\n",
       "    .dataframe tbody tr th {\n",
       "        vertical-align: top;\n",
       "    }\n",
       "\n",
       "    .dataframe thead th {\n",
       "        text-align: right;\n",
       "    }\n",
       "</style>\n",
       "<table border=\"1\" class=\"dataframe\">\n",
       "  <thead>\n",
       "    <tr style=\"text-align: right;\">\n",
       "      <th></th>\n",
       "      <th>open_gg</th>\n",
       "      <th>close_gg</th>\n",
       "      <th>open_am</th>\n",
       "      <th>close_am</th>\n",
       "      <th>open_ms</th>\n",
       "      <th>close_ms</th>\n",
       "    </tr>\n",
       "    <tr>\n",
       "      <th>Dates</th>\n",
       "      <th></th>\n",
       "      <th></th>\n",
       "      <th></th>\n",
       "      <th></th>\n",
       "      <th></th>\n",
       "      <th></th>\n",
       "    </tr>\n",
       "  </thead>\n",
       "  <tbody>\n",
       "    <tr>\n",
       "      <th>2018-10-30 09:30:00</th>\n",
       "      <td>1008.46</td>\n",
       "      <td>1002.62</td>\n",
       "      <td>1486.16</td>\n",
       "      <td>1483.81</td>\n",
       "      <td>103.66</td>\n",
       "      <td>102.92</td>\n",
       "    </tr>\n",
       "    <tr>\n",
       "      <th>2018-10-30 09:31:00</th>\n",
       "      <td>1002.43</td>\n",
       "      <td>1008.00</td>\n",
       "      <td>1482.49</td>\n",
       "      <td>1492.11</td>\n",
       "      <td>102.89</td>\n",
       "      <td>103.40</td>\n",
       "    </tr>\n",
       "    <tr>\n",
       "      <th>2018-10-30 09:32:00</th>\n",
       "      <td>1007.93</td>\n",
       "      <td>1014.00</td>\n",
       "      <td>1491.87</td>\n",
       "      <td>1511.51</td>\n",
       "      <td>103.40</td>\n",
       "      <td>103.63</td>\n",
       "    </tr>\n",
       "    <tr>\n",
       "      <th>2018-10-30 09:33:00</th>\n",
       "      <td>1014.00</td>\n",
       "      <td>1010.62</td>\n",
       "      <td>1510.03</td>\n",
       "      <td>1503.56</td>\n",
       "      <td>103.64</td>\n",
       "      <td>103.59</td>\n",
       "    </tr>\n",
       "    <tr>\n",
       "      <th>2018-10-30 09:34:00</th>\n",
       "      <td>1010.00</td>\n",
       "      <td>1016.97</td>\n",
       "      <td>1506.79</td>\n",
       "      <td>1505.00</td>\n",
       "      <td>103.58</td>\n",
       "      <td>103.61</td>\n",
       "    </tr>\n",
       "  </tbody>\n",
       "</table>\n",
       "</div>"
      ],
      "text/plain": [
       "                     open_gg  close_gg  open_am  close_am  open_ms  close_ms\n",
       "Dates                                                                       \n",
       "2018-10-30 09:30:00  1008.46   1002.62  1486.16   1483.81   103.66    102.92\n",
       "2018-10-30 09:31:00  1002.43   1008.00  1482.49   1492.11   102.89    103.40\n",
       "2018-10-30 09:32:00  1007.93   1014.00  1491.87   1511.51   103.40    103.63\n",
       "2018-10-30 09:33:00  1014.00   1010.62  1510.03   1503.56   103.64    103.59\n",
       "2018-10-30 09:34:00  1010.00   1016.97  1506.79   1505.00   103.58    103.61"
      ]
     },
     "execution_count": 65,
     "metadata": {},
     "output_type": "execute_result"
    }
   ],
   "source": [
    "price.head()"
   ]
  },
  {
   "cell_type": "code",
   "execution_count": 7,
   "metadata": {},
   "outputs": [],
   "source": [
    "import random"
   ]
  },
  {
   "cell_type": "code",
   "execution_count": 19,
   "metadata": {},
   "outputs": [],
   "source": [
    "t = np.arange(0, 10)"
   ]
  },
  {
   "cell_type": "code",
   "execution_count": 85,
   "metadata": {},
   "outputs": [
    {
     "data": {
      "text/plain": [
       "0"
      ]
     },
     "execution_count": 85,
     "metadata": {},
     "output_type": "execute_result"
    }
   ],
   "source": [
    "random.choice(t[:8])"
   ]
  },
  {
   "cell_type": "code",
   "execution_count": null,
   "metadata": {},
   "outputs": [],
   "source": []
  },
  {
   "cell_type": "code",
   "execution_count": null,
   "metadata": {},
   "outputs": [],
   "source": []
  },
  {
   "cell_type": "code",
   "execution_count": null,
   "metadata": {},
   "outputs": [],
   "source": []
  },
  {
   "cell_type": "raw",
   "metadata": {},
   "source": []
  },
  {
   "cell_type": "code",
   "execution_count": null,
   "metadata": {},
   "outputs": [],
   "source": []
  },
  {
   "cell_type": "code",
   "execution_count": null,
   "metadata": {},
   "outputs": [],
   "source": []
  },
  {
   "cell_type": "code",
   "execution_count": null,
   "metadata": {},
   "outputs": [],
   "source": []
  },
  {
   "cell_type": "code",
   "execution_count": null,
   "metadata": {},
   "outputs": [],
   "source": []
  },
  {
   "cell_type": "code",
   "execution_count": null,
   "metadata": {},
   "outputs": [],
   "source": []
  },
  {
   "cell_type": "code",
   "execution_count": null,
   "metadata": {},
   "outputs": [],
   "source": []
  },
  {
   "cell_type": "code",
   "execution_count": null,
   "metadata": {},
   "outputs": [],
   "source": []
  },
  {
   "cell_type": "code",
   "execution_count": null,
   "metadata": {},
   "outputs": [],
   "source": []
  },
  {
   "cell_type": "code",
   "execution_count": null,
   "metadata": {},
   "outputs": [],
   "source": []
  },
  {
   "cell_type": "code",
   "execution_count": null,
   "metadata": {},
   "outputs": [],
   "source": []
  },
  {
   "cell_type": "code",
   "execution_count": null,
   "metadata": {},
   "outputs": [],
   "source": []
  },
  {
   "cell_type": "code",
   "execution_count": null,
   "metadata": {},
   "outputs": [],
   "source": []
  },
  {
   "cell_type": "code",
   "execution_count": null,
   "metadata": {},
   "outputs": [],
   "source": []
  }
 ],
 "metadata": {
  "kernelspec": {
   "display_name": "Python 3",
   "language": "python",
   "name": "python3"
  },
  "language_info": {
   "codemirror_mode": {
    "name": "ipython",
    "version": 3
   },
   "file_extension": ".py",
   "mimetype": "text/x-python",
   "name": "python",
   "nbconvert_exporter": "python",
   "pygments_lexer": "ipython3",
   "version": "3.7.0"
  }
 },
 "nbformat": 4,
 "nbformat_minor": 2
}
