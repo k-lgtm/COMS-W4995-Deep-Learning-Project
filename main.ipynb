{
 "cells": [
  {
   "cell_type": "markdown",
   "metadata": {},
   "source": [
    "# COMS W4995 Project: Reinforcement Learning Trading"
   ]
  },
  {
   "cell_type": "markdown",
   "metadata": {},
   "source": [
    "### imports\n"
   ]
  },
  {
   "cell_type": "code",
   "execution_count": 1,
   "metadata": {},
   "outputs": [],
   "source": [
    "import gym\n"
   ]
  },
  {
   "cell_type": "code",
   "execution_count": null,
   "metadata": {},
   "outputs": [],
   "source": []
  },
  {
   "cell_type": "code",
   "execution_count": null,
   "metadata": {},
   "outputs": [],
   "source": []
  },
  {
   "cell_type": "code",
   "execution_count": 2,
   "metadata": {},
   "outputs": [],
   "source": [
    "def get_data(col='close'):\n",
    "  \"\"\" Returns a 3 x n_step array \"\"\"\n",
    "  msft = pd.read_csv('./data/daily_MSFT.csv', usecols=[col])\n",
    "  ibm = pd.read_csv('./data/daily_IBM.csv', usecols=[col])\n",
    "  qcom = pd.read_csv('./data/daily_QCOM.csv', usecols=[col])\n",
    "    \n",
    "  # recent price are at top; reverse it\n",
    "  return np.array([msft[col].values[::-1],\n",
    "                   ibm[col].values[::-1],\n",
    "                   qcom[col].values[::-1]])"
   ]
  },
  {
   "cell_type": "markdown",
   "metadata": {},
   "source": [
    "## Create environment"
   ]
  },
  {
   "cell_type": "code",
   "execution_count": 3,
   "metadata": {},
   "outputs": [],
   "source": [
    "import itertools\n",
    "\n",
    "class EquityEnv(gym.Env):\n",
    "    \"\"\"\n",
    "    A 3-stock equity trading environment.\n",
    "\n",
    "    State: [# of stock owned, current stock prices, cash in hand]\n",
    "    - array of length n_stock * 2 + 1\n",
    "    - price is discretized (to integer) to reduce state space\n",
    "    - use close price for each stock\n",
    "    - cash in hand is evaluated at each step based on action performed\n",
    "\n",
    "    Action: sell (0), hold (1), and buy (2)\n",
    "    - when selling, sell all the shares\n",
    "    - when buying, buy as many as cash in hand allows\n",
    "    - if buying multiple stock, equally distribute cash in hand and then utilize the balance\n",
    "    \"\"\"\n",
    "\n",
    "\n",
    "    def __init__(self, train_data, initial_invest):\n",
    "        self.stock_price_history = np.around(train_data) # round up to integer to reduce state space\n",
    "        self.n_stock, self.n_step = self.stock_price_history.shape        \n",
    "        \n",
    "        self.init_invest = initial_invest\n",
    "        \n",
    "        self.cur_step = 0\n",
    "        self.stock_owned = [0] * self.n_stock\n",
    "        self.stock_price = self.stock_price_history[:, self.cur_step]\n",
    "        \n",
    "        self.cash_in_hand = self.init_invest\n",
    "\n",
    "        \n",
    "        # action space\n",
    "        self.action_space = gym.spaces.Discrete(3**self.n_stock)\n",
    "#         self.action_space = gym.spaces.Box(-2, 2, shape=(asset_num,), dtype='float32')\n",
    "        \n",
    "\n",
    "    def reset(self):\n",
    "        self.cur_step = 0        \n",
    "        self.stock_owned = [0] * self.n_stock\n",
    "        self.stock_price = self.stock_price_history[:, self.cur_step]\n",
    "        \n",
    "        self.cash_in_hand = self.init_invest\n",
    "        \n",
    "        #return self._get_obs()\n",
    "        \n",
    "    def step(self, action):\n",
    "        previous_portfolio_value = self._get_portfolio_value()\n",
    "\n",
    "        self.cur_step += 1\n",
    "        \n",
    "        self.stock_price = self.stock_price_history[:, self.cur_step] # update price        \n",
    "                \n",
    "        self._trade(action)\n",
    "                \n",
    "        next_state = self._get_observation()\n",
    "\n",
    "        current_portfolio_value = self._get_portfolio_value()        \n",
    "        reward = current_portfolio_value - previous_portfolio_value\n",
    "        \n",
    "        done = self.cur_step == self.n_step - 1\n",
    "        \n",
    "        info = {'cur_val': current_portfolio_value}\n",
    "        \n",
    "        return next_state, reward, done, info    \n",
    "    \n",
    "    def _get_observation(self):\n",
    "        observation = []\n",
    "        \n",
    "        observation.extend(self.stock_owned)        \n",
    "        observation.extend(list(self.stock_price))\n",
    "        observation.append(self.cash_in_hand)     \n",
    "        \n",
    "        return observation  \n",
    "    \n",
    "    def _get_portfolio_value(self):\n",
    "        \n",
    "        return np.sum(self.stock_owned * self.stock_price) + self.cash_in_hand\n",
    "        \n",
    " \n",
    "    def _trade(self, action):\n",
    "        # all combo to sell(0), hold(1), or buy(2) stocks\n",
    "        action_cartesian_product = list(itertools.product([0, 1, 2], repeat=self.n_stock))\n",
    "\n",
    "        action_vec = action_cartesian_product[action]\n",
    "        \n",
    "        # one pass to get sell/buy index\n",
    "        sell_index = []\n",
    "        buy_index = []\n",
    "        for i, a in enumerate(action_vec):\n",
    "          if a == 0:\n",
    "            sell_index.append(i)\n",
    "          elif a == 2:\n",
    "            buy_index.append(i)\n",
    "\n",
    "        # two passes: sell first, then buy; might be naive in real-world settings\n",
    "        if sell_index:\n",
    "          for i in sell_index:\n",
    "            self.cash_in_hand += self.stock_price[i] * self.stock_owned[i]\n",
    "            self.stock_owned[i] = 0\n",
    "        if buy_index:\n",
    "          can_buy = True\n",
    "          while can_buy:\n",
    "            for i in buy_index:\n",
    "              if self.cash_in_hand > self.stock_price[i]:\n",
    "                self.stock_owned[i] += 1 # buy one share\n",
    "                self.cash_in_hand -= self.stock_price[i]\n",
    "              else:\n",
    "                can_buy = False\n",
    "\n"
   ]
  },
  {
   "cell_type": "code",
   "execution_count": 4,
   "metadata": {},
   "outputs": [],
   "source": [
    "import numpy as np\n",
    "import pandas as pd\n",
    "\n",
    "\n"
   ]
  },
  {
   "cell_type": "markdown",
   "metadata": {},
   "source": [
    "## Load data"
   ]
  },
  {
   "cell_type": "code",
   "execution_count": 5,
   "metadata": {},
   "outputs": [
    {
     "name": "stdout",
     "output_type": "stream",
     "text": [
      "4526\n",
      "[[117. 113. 114. ...  36.  36.  36.]\n",
      " [116. 112. 116. ... 186. 190. 188.]\n",
      " [179. 162. 158. ...  73.  73.  74.]]\n"
     ]
    }
   ],
   "source": [
    "data = np.around(get_data())\n",
    "train_data = data[:, :3526]\n",
    "test_data = data[:, 3526:]\n",
    "\n",
    "print (len(data[0]))\n",
    "print (train_data)"
   ]
  },
  {
   "cell_type": "code",
   "execution_count": 6,
   "metadata": {},
   "outputs": [
    {
     "name": "stdout",
     "output_type": "stream",
     "text": [
      "[[117. 113. 114. ...  36.  36.  36.]\n",
      " [116. 112. 116. ... 186. 190. 188.]\n",
      " [179. 162. 158. ...  73.  73.  74.]]\n"
     ]
    }
   ],
   "source": [
    "initial_invest = 10000\n",
    "\n",
    "env = EquityEnv(train_data, initial_invest)\n",
    "\n",
    "\n",
    "print(env.stock_price_history)\n"
   ]
  },
  {
   "cell_type": "markdown",
   "metadata": {},
   "source": [
    "## Run Model\n"
   ]
  },
  {
   "cell_type": "code",
   "execution_count": 7,
   "metadata": {},
   "outputs": [
    {
     "name": "stdout",
     "output_type": "stream",
     "text": [
      "{'cur_val': 6764.0}\n",
      "Episode finished after 3525 timesteps\n",
      "episode: 0/20, episode end value: 6764.0\n",
      "{'cur_val': 4234.0}\n",
      "Episode finished after 3525 timesteps\n",
      "episode: 1/20, episode end value: 4234.0\n",
      "{'cur_val': 4436.0}\n",
      "Episode finished after 3525 timesteps\n",
      "episode: 2/20, episode end value: 4436.0\n",
      "{'cur_val': 2059.0}\n",
      "Episode finished after 3525 timesteps\n",
      "episode: 3/20, episode end value: 2059.0\n",
      "{'cur_val': 23203.0}\n",
      "Episode finished after 3525 timesteps\n",
      "episode: 4/20, episode end value: 23203.0\n",
      "{'cur_val': 19395.0}\n",
      "Episode finished after 3525 timesteps\n",
      "episode: 5/20, episode end value: 19395.0\n",
      "{'cur_val': 3572.0}\n",
      "Episode finished after 3525 timesteps\n",
      "episode: 6/20, episode end value: 3572.0\n",
      "{'cur_val': 2853.0}\n",
      "Episode finished after 3525 timesteps\n",
      "episode: 7/20, episode end value: 2853.0\n",
      "{'cur_val': 5003.0}\n",
      "Episode finished after 3525 timesteps\n",
      "episode: 8/20, episode end value: 5003.0\n",
      "{'cur_val': 16540.0}\n",
      "Episode finished after 3525 timesteps\n",
      "episode: 9/20, episode end value: 16540.0\n",
      "{'cur_val': 3574.0}\n",
      "Episode finished after 3525 timesteps\n",
      "episode: 10/20, episode end value: 3574.0\n",
      "{'cur_val': 17575.0}\n",
      "Episode finished after 3525 timesteps\n",
      "episode: 11/20, episode end value: 17575.0\n",
      "{'cur_val': 24958.0}\n",
      "Episode finished after 3525 timesteps\n",
      "episode: 12/20, episode end value: 24958.0\n",
      "{'cur_val': 5744.0}\n",
      "Episode finished after 3525 timesteps\n",
      "episode: 13/20, episode end value: 5744.0\n",
      "{'cur_val': 1638.0}\n",
      "Episode finished after 3525 timesteps\n",
      "episode: 14/20, episode end value: 1638.0\n",
      "{'cur_val': 10788.0}\n",
      "Episode finished after 3525 timesteps\n",
      "episode: 15/20, episode end value: 10788.0\n",
      "{'cur_val': 10660.0}\n",
      "Episode finished after 3525 timesteps\n",
      "episode: 16/20, episode end value: 10660.0\n",
      "{'cur_val': 11682.0}\n",
      "Episode finished after 3525 timesteps\n",
      "episode: 17/20, episode end value: 11682.0\n",
      "{'cur_val': 3490.0}\n",
      "Episode finished after 3525 timesteps\n",
      "episode: 18/20, episode end value: 3490.0\n",
      "{'cur_val': 11077.0}\n",
      "Episode finished after 3525 timesteps\n",
      "episode: 19/20, episode end value: 11077.0\n",
      "[6764.0, 4234.0, 4436.0, 2059.0, 23203.0, 19395.0, 3572.0, 2853.0, 5003.0, 16540.0, 3574.0, 17575.0, 24958.0, 5744.0, 1638.0, 10788.0, 10660.0, 11682.0, 3490.0, 11077.0]\n"
     ]
    }
   ],
   "source": [
    "portfolio_value = []\n",
    "\n",
    "total_episode = 20\n",
    "\n",
    "for i_episode in range(total_episode):\n",
    "    observation = env.reset()\n",
    "    for t in range(env.n_step):\n",
    "        \n",
    "        action = env.action_space.sample()\n",
    "        \n",
    "        observation, reward, done, info = env.step(action)\n",
    "        \n",
    "        if done:\n",
    "            print (info)\n",
    "            print(\"Episode finished after {} timesteps\".format(t+1))\n",
    "            print(\"episode: {}/{}, episode end value: {}\".format(i_episode, total_episode, info['cur_val']))\n",
    "            portfolio_value.append(info['cur_val']) # append episode end portfolio value   \n",
    "\n",
    "            break\n",
    "            \n",
    "env.close()\n",
    "\n",
    "print (portfolio_value)"
   ]
  },
  {
   "cell_type": "code",
   "execution_count": null,
   "metadata": {},
   "outputs": [],
   "source": []
  },
  {
   "cell_type": "code",
   "execution_count": null,
   "metadata": {},
   "outputs": [],
   "source": []
  },
  {
   "cell_type": "code",
   "execution_count": null,
   "metadata": {},
   "outputs": [],
   "source": [
    "\n"
   ]
  },
  {
   "cell_type": "code",
   "execution_count": null,
   "metadata": {},
   "outputs": [],
   "source": []
  },
  {
   "cell_type": "code",
   "execution_count": null,
   "metadata": {},
   "outputs": [],
   "source": [
    "\n"
   ]
  },
  {
   "cell_type": "code",
   "execution_count": null,
   "metadata": {},
   "outputs": [],
   "source": []
  },
  {
   "cell_type": "markdown",
   "metadata": {},
   "source": [
    "## Run"
   ]
  },
  {
   "cell_type": "code",
   "execution_count": null,
   "metadata": {},
   "outputs": [],
   "source": []
  },
  {
   "cell_type": "code",
   "execution_count": null,
   "metadata": {},
   "outputs": [],
   "source": []
  }
 ],
 "metadata": {
  "kernelspec": {
   "display_name": "Python 3",
   "language": "python",
   "name": "python3"
  },
  "language_info": {
   "codemirror_mode": {
    "name": "ipython",
    "version": 3
   },
   "file_extension": ".py",
   "mimetype": "text/x-python",
   "name": "python",
   "nbconvert_exporter": "python",
   "pygments_lexer": "ipython3",
   "version": "3.5.3"
  }
 },
 "nbformat": 4,
 "nbformat_minor": 4
}
