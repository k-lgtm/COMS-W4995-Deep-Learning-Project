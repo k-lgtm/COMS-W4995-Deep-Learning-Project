{
 "cells": [
  {
   "cell_type": "code",
   "execution_count": 1,
   "metadata": {},
   "outputs": [],
   "source": [
    "%matplotlib inline\n",
    "import matplotlib\n",
    "import matplotlib.pyplot as plt\n",
    "import numpy as np\n",
    "import pandas as pd\n",
    "from collections import deque\n",
    "from sklearn.preprocessing import StandardScaler"
   ]
  },
  {
   "cell_type": "markdown",
   "metadata": {},
   "source": [
    "### Specify some constants"
   ]
  },
  {
   "cell_type": "code",
   "execution_count": 44,
   "metadata": {},
   "outputs": [],
   "source": [
    "# How many days do we want to predict into future\n",
    "predict_len = 3\n",
    "# How many percent of the data is training set\n",
    "train_pct = 0.8\n",
    "# Which stock do you want to predict\n",
    "pre_stock = \"Google\"\n",
    "# How many data do you use to predict\n",
    "window_len = 120\n",
    "# What is the name for this study\n",
    "NAME = \"%s_min_%s_win_%s\" % (predict_len, window_len, pre_stock)\n",
    "# How big is each batch?\n",
    "BATCH_SIZE = 64\n",
    "# How many passes through our data?\n",
    "EPOCHS = 10"
   ]
  },
  {
   "cell_type": "code",
   "execution_count": 39,
   "metadata": {},
   "outputs": [
    {
     "data": {
      "text/plain": [
       "'3_min_120_win_Google'"
      ]
     },
     "execution_count": 39,
     "metadata": {},
     "output_type": "execute_result"
    }
   ],
   "source": [
    "NAME"
   ]
  },
  {
   "cell_type": "markdown",
   "metadata": {},
   "source": [
    "### Load and concatenate the dataset"
   ]
  },
  {
   "cell_type": "code",
   "execution_count": 8,
   "metadata": {},
   "outputs": [],
   "source": [
    "stock_list = [\"google\", \"amazon\", \"microsoft\"]\n",
    "data_list = []\n",
    "for stock in stock_list:\n",
    "    df = pd.read_excel(\"data/%s.xlsx\" % stock)\n",
    "    df[\"Dates\"] = df[\"Dates\"].apply(lambda x: pd.to_datetime(x))\n",
    "    df.set_index(\"Dates\", inplace=True)\n",
    "    df.drop([\"Value\", \"Number Ticks\"], axis=1, inplace=True)\n",
    "    df.rename(lambda x: stock[0]+\"_\"+x.lower(), axis=1, inplace=True)\n",
    "    data_list.append(df)\n",
    "data = pd.concat(data_list, join=\"inner\", axis=1)"
   ]
  },
  {
   "cell_type": "markdown",
   "metadata": {},
   "source": [
    "### Check NaNs"
   ]
  },
  {
   "cell_type": "code",
   "execution_count": 9,
   "metadata": {},
   "outputs": [
    {
     "data": {
      "text/plain": [
       "g_open      0\n",
       "g_close     0\n",
       "g_high      0\n",
       "g_low       0\n",
       "g_volume    0\n",
       "a_open      0\n",
       "a_close     0\n",
       "a_high      0\n",
       "a_low       0\n",
       "a_volume    0\n",
       "m_open      0\n",
       "m_close     0\n",
       "m_high      0\n",
       "m_low       0\n",
       "m_volume    0\n",
       "dtype: int64"
      ]
     },
     "execution_count": 9,
     "metadata": {},
     "output_type": "execute_result"
    }
   ],
   "source": [
    "data.isnull().sum()"
   ]
  },
  {
   "cell_type": "markdown",
   "metadata": {},
   "source": [
    "### Create the target: return"
   ]
  },
  {
   "cell_type": "code",
   "execution_count": 10,
   "metadata": {},
   "outputs": [],
   "source": [
    "ret = (data[[\"g_close\", \"a_close\", \"m_close\"]].shift(-predict_len) - data[[\"g_close\", \"a_close\", \"m_close\"]]) / data[[\"g_close\", \"a_close\", \"m_close\"]].values"
   ]
  },
  {
   "cell_type": "code",
   "execution_count": 11,
   "metadata": {},
   "outputs": [],
   "source": [
    "data[\"target\"] = ret[pre_stock.lower()[0]+\"_close\"]"
   ]
  },
  {
   "cell_type": "code",
   "execution_count": 12,
   "metadata": {},
   "outputs": [
    {
     "data": {
      "text/plain": [
       "(36007, 16)"
      ]
     },
     "execution_count": 12,
     "metadata": {},
     "output_type": "execute_result"
    }
   ],
   "source": [
    "data.shape"
   ]
  },
  {
   "cell_type": "code",
   "execution_count": 13,
   "metadata": {},
   "outputs": [],
   "source": [
    "data.dropna(axis=0, inplace=True)"
   ]
  },
  {
   "cell_type": "markdown",
   "metadata": {},
   "source": [
    "### Split train and test"
   ]
  },
  {
   "cell_type": "code",
   "execution_count": 14,
   "metadata": {},
   "outputs": [],
   "source": [
    "train_size = int(train_pct*data.shape[0])\n",
    "train_data = data.iloc[:train_size]\n",
    "test_data = data.iloc[train_size:]"
   ]
  },
  {
   "cell_type": "markdown",
   "metadata": {},
   "source": [
    "### Scale the data (now we have scaled both the dependent and independent variables)"
   ]
  },
  {
   "cell_type": "code",
   "execution_count": 15,
   "metadata": {},
   "outputs": [],
   "source": [
    "def scale_data(df):\n",
    "    scaler = StandardScaler()\n",
    "    scaler.fit(df)\n",
    "    return scaler"
   ]
  },
  {
   "cell_type": "code",
   "execution_count": 16,
   "metadata": {},
   "outputs": [],
   "source": [
    "scaler = scale_data(train_data)\n",
    "train_arr = scaler.transform(train_data)\n",
    "test_arr = scaler.transform(test_data)"
   ]
  },
  {
   "cell_type": "markdown",
   "metadata": {},
   "source": [
    "### Create sequence data"
   ]
  },
  {
   "cell_type": "code",
   "execution_count": 17,
   "metadata": {},
   "outputs": [],
   "source": [
    "def sequential_data(df, window_length=window_len):\n",
    "    X = []\n",
    "    y = []\n",
    "    prediction_data = deque(maxlen=window_length)\n",
    "    for row in df.values:\n",
    "        prediction_data.append(row[:-1])\n",
    "        if len(prediction_data) == window_length:\n",
    "            X.append(np.array(prediction_data))\n",
    "            y.append(row[-1])\n",
    "    return np.array(X), np.array(y)"
   ]
  },
  {
   "cell_type": "code",
   "execution_count": 19,
   "metadata": {},
   "outputs": [],
   "source": [
    "train_X, train_y = sequential_data(train_data)\n",
    "test_X, test_y = sequential_data(test_data)"
   ]
  },
  {
   "cell_type": "markdown",
   "metadata": {},
   "source": [
    "### Shuffle the train data"
   ]
  },
  {
   "cell_type": "code",
   "execution_count": 29,
   "metadata": {},
   "outputs": [],
   "source": [
    "train_n = train_X.shape[0]\n",
    "rind = np.random.choice(train_n, train_n, replace=False)\n",
    "train_X = train_X[rind]\n",
    "train_y = train_y[rind]"
   ]
  },
  {
   "cell_type": "markdown",
   "metadata": {},
   "source": [
    "### building networks"
   ]
  },
  {
   "cell_type": "code",
   "execution_count": 20,
   "metadata": {},
   "outputs": [],
   "source": [
    "import tensorflow as tf\n",
    "from tensorflow.keras.models import Sequential\n",
    "from tensorflow.keras.layers import Dense, Dropout, LSTM, CuDNNLSTM, BatchNormalization\n",
    "from tensorflow.keras.callbacks import TensorBoard\n",
    "from tensorflow.keras.callbacks import ModelCheckpoint"
   ]
  },
  {
   "cell_type": "code",
   "execution_count": null,
   "metadata": {},
   "outputs": [],
   "source": [
    "## my question is just, what does it mean to have 128 cells for LSTM? \n",
    "## and what does batch normalization mean?"
   ]
  },
  {
   "cell_type": "code",
   "execution_count": 32,
   "metadata": {},
   "outputs": [],
   "source": [
    "model = Sequential()\n",
    "\n",
    "model.add(CuDNNLSTM(128, input_shape=(train_X.shape[1:]), return_sequences=True))\n",
    "model.add(Dropout(0.2))\n",
    "model.add(BatchNormalization())\n",
    "\n",
    "model.add(CuDNNLSTM(128, return_sequences=True))\n",
    "model.add(Dropout(0.2))\n",
    "model.add(BatchNormalization())\n",
    "\n",
    "model.add(CuDNNLSTM(128))\n",
    "model.add(Dropout(0.2))\n",
    "model.add(BatchNormalization())\n",
    "\n",
    "model.add(Dense(32, activation='relu'))\n",
    "model.add(Dropout(0.2))\n",
    "\n",
    "model.add(Dense(1))"
   ]
  },
  {
   "cell_type": "code",
   "execution_count": 33,
   "metadata": {},
   "outputs": [],
   "source": [
    "opt = tf.keras.optimizers.Adam(lr=0.001, decay=1e-6)\n",
    "# Compile model\n",
    "model.compile(\n",
    "    loss='mean_squared_error',\n",
    "    optimizer=opt,\n",
    "    metrics=['mean_squared_error']\n",
    ")"
   ]
  },
  {
   "cell_type": "code",
   "execution_count": 40,
   "metadata": {},
   "outputs": [],
   "source": [
    "tensorboard = TensorBoard(log_dir=\"lstm_logs/{}\".format(NAME))"
   ]
  },
  {
   "cell_type": "code",
   "execution_count": 45,
   "metadata": {},
   "outputs": [],
   "source": [
    "# filepath = \"RNN_Final-{epoch:02d}-{val_acc:.3f}\"  # unique file name that will include the epoch and the validation acc for that epoch\n",
    "# checkpoint = ModelCheckpoint(\"lstm_models/{}.model\".format(filepath, monitor='val_acc', verbose=1, save_best_only=True, mode='max')) # saves only the best ones"
   ]
  },
  {
   "cell_type": "code",
   "execution_count": 46,
   "metadata": {},
   "outputs": [
    {
     "name": "stdout",
     "output_type": "stream",
     "text": [
      "Train on 28684 samples, validate on 7082 samples\n",
      "Epoch 1/10\n",
      "   64/28684 [..............................] - ETA: 55:08 - loss: 1.5554 - mean_squared_error: 1.5554WARNING:tensorflow:Method (on_train_batch_end) is slow compared to the batch update (0.223065). Check your callbacks.\n",
      "28684/28684 [==============================] - 28s 983us/sample - loss: 0.1617 - mean_squared_error: 0.1617 - val_loss: 0.0023 - val_mean_squared_error: 0.0023\n",
      "Epoch 2/10\n",
      "28684/28684 [==============================] - 13s 443us/sample - loss: 0.0088 - mean_squared_error: 0.0088 - val_loss: 1.3843e-04 - val_mean_squared_error: 1.3843e-04\n",
      "Epoch 3/10\n",
      "28684/28684 [==============================] - 13s 448us/sample - loss: 0.0020 - mean_squared_error: 0.0020 - val_loss: 1.3028e-05 - val_mean_squared_error: 1.3028e-05\n",
      "Epoch 4/10\n",
      "28684/28684 [==============================] - 13s 442us/sample - loss: 6.8840e-04 - mean_squared_error: 6.8840e-04 - val_loss: 8.6252e-06 - val_mean_squared_error: 8.6252e-06\n",
      "Epoch 5/10\n",
      "28684/28684 [==============================] - 13s 442us/sample - loss: 3.3453e-04 - mean_squared_error: 3.3453e-04 - val_loss: 3.0789e-06 - val_mean_squared_error: 3.0789e-06\n",
      "Epoch 6/10\n",
      "28684/28684 [==============================] - 13s 442us/sample - loss: 1.6115e-04 - mean_squared_error: 1.6115e-04 - val_loss: 1.2910e-06 - val_mean_squared_error: 1.2910e-06\n",
      "Epoch 7/10\n",
      "28684/28684 [==============================] - 13s 442us/sample - loss: 1.0567e-04 - mean_squared_error: 1.0567e-04 - val_loss: 1.0664e-06 - val_mean_squared_error: 1.0664e-06\n",
      "Epoch 8/10\n",
      "28684/28684 [==============================] - 13s 449us/sample - loss: 6.9876e-05 - mean_squared_error: 6.9876e-05 - val_loss: 1.0763e-06 - val_mean_squared_error: 1.0763e-06\n",
      "Epoch 9/10\n",
      "28684/28684 [==============================] - 13s 450us/sample - loss: 5.2733e-05 - mean_squared_error: 5.2733e-05 - val_loss: 1.0932e-06 - val_mean_squared_error: 1.0932e-06\n",
      "Epoch 10/10\n",
      "28684/28684 [==============================] - 13s 443us/sample - loss: 3.6147e-05 - mean_squared_error: 3.6147e-05 - val_loss: 1.0819e-06 - val_mean_squared_error: 1.0819e-06\n"
     ]
    }
   ],
   "source": [
    "history = model.fit(\n",
    "    train_X, train_y,\n",
    "    batch_size=BATCH_SIZE,\n",
    "    epochs=EPOCHS,\n",
    "    validation_data=(test_X, test_y),\n",
    "    callbacks=[tensorboard],\n",
    ")"
   ]
  },
  {
   "cell_type": "code",
   "execution_count": null,
   "metadata": {},
   "outputs": [],
   "source": []
  },
  {
   "cell_type": "code",
   "execution_count": null,
   "metadata": {},
   "outputs": [],
   "source": []
  }
 ],
 "metadata": {
  "kernelspec": {
   "display_name": "Python 3",
   "language": "python",
   "name": "python3"
  },
  "language_info": {
   "codemirror_mode": {
    "name": "ipython",
    "version": 3
   },
   "file_extension": ".py",
   "mimetype": "text/x-python",
   "name": "python",
   "nbconvert_exporter": "python",
   "pygments_lexer": "ipython3",
   "version": "3.5.3"
  }
 },
 "nbformat": 4,
 "nbformat_minor": 4
}
